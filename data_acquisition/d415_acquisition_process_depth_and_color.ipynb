{
 "cells": [
  {
   "cell_type": "code",
   "execution_count": null,
   "metadata": {},
   "outputs": [],
   "source": [
    "#THIS PIPELINE ASSUMING YOU JUST FINISHED RUNNING d415_acquisition_color_and_rgb_and_compress.ipynb\n",
    "#IF YOU ARE JUST STARTING WITH RAW BINARY FILES THEN SKIP BELOW TO WHERE IT SAYS \"START HERE IF JUST WORKING WITH...\n",
    "#DON'T FORGET THE IMPORTS THOUGH"
   ]
  },
  {
   "cell_type": "code",
   "execution_count": null,
   "metadata": {},
   "outputs": [],
   "source": [
    "#DEFAULT PARAMS IN CASE YOU DON'T HAVE THE VARIABLES FILE\n",
    "#IF THAT'S THE CASE YOU ALSO NEED TO SPECIFY NUMBER OF FRAMES AND BACKGROUND CHUNK LENGTH\n",
    "frame_height=480\n",
    "frame_width=640\n",
    "fps=30\n",
    "box_size=192\n",
    "stringency=30\n",
    "min_range=0\n",
    "max_range=1000\n",
    "grand_frame=0\n",
    "background_chunk=600\n",
    "number_of_frames=60000"
   ]
  },
  {
   "cell_type": "code",
   "execution_count": null,
   "metadata": {},
   "outputs": [],
   "source": [
    "import matplotlib.pyplot as plt\n",
    "import numpy as np\n",
    "import random\n",
    "import gzip\n",
    "import matplotlib.colors as mcol\n",
    "import matplotlib.cm as cm\n",
    "import pickle\n",
    "import os\n",
    "import imageio\n",
    "import gc\n",
    "import cv2\n",
    "from scipy import stats\n",
    "from scipy import ndimage #for finding com\n",
    "from scipy.misc import imsave\n",
    "from itertools import cycle\n",
    "cycol = cycle('bgrcmk') #here I'm generating a list of colors I can plot"
   ]
  },
  {
   "cell_type": "code",
   "execution_count": null,
   "metadata": {},
   "outputs": [],
   "source": [
    "#Change to directory that contains the ouput of d415_acquisition_color_and_rgb_and_compress.ipynb\n",
    "os.chdir(\"/home/rockwell/Real_Sensible_Moseq/data_acquisition/\")"
   ]
  },
  {
   "cell_type": "code",
   "execution_count": null,
   "metadata": {},
   "outputs": [],
   "source": [
    "#enter folder name\n",
    "experiment=input(\"Regarding experiment date and number (six digit id): Enter YYMMDD_######   -\")"
   ]
  },
  {
   "cell_type": "code",
   "execution_count": null,
   "metadata": {},
   "outputs": [],
   "source": [
    "os.chdir(experiment)\n",
    "os.mkdir(experiment+'_depth_frames')\n",
    "os.mkdir(experiment+'_color_frames')"
   ]
  },
  {
   "cell_type": "code",
   "execution_count": null,
   "metadata": {},
   "outputs": [],
   "source": [
    "with open(experiment+'_variables', 'rb') as variables:\n",
    "    number_of_frames,frame_height,frame_width,fps,background_chunk = pickle.load(variables)\n",
    "    \n",
    "exp_numb=0\n",
    "box_size=192\n",
    "stringency=30 #10 for d415 50 for sr300\n",
    "grand_frame=int(exp_numb*(number_of_frames-background_chunk))\n",
    "min_range=0\n",
    "max_range=300 #1000"
   ]
  },
  {
   "cell_type": "code",
   "execution_count": null,
   "metadata": {},
   "outputs": [],
   "source": [
    "depthfilename='%s_raw_depth.gz'%experiment\n",
    "colorfilename='%s_raw_color.gz'%experiment"
   ]
  },
  {
   "cell_type": "code",
   "execution_count": null,
   "metadata": {},
   "outputs": [],
   "source": [
    "#Load and uncompress data (depth)\n",
    "input_file = gzip.GzipFile(colorfilename, 'rb')\n",
    "data = input_file.read()\n",
    "input_file.close()\n",
    "\n",
    "output_file = open(\"colordata.bin\", 'wb')\n",
    "output_file.write(data)\n",
    "output_file.close()"
   ]
  },
  {
   "cell_type": "code",
   "execution_count": null,
   "metadata": {},
   "outputs": [],
   "source": [
    "#Load and uncompress data (color)\n",
    "input_file = gzip.GzipFile(depthfilename, 'rb')\n",
    "data = input_file.read()\n",
    "input_file.close()\n",
    "\n",
    "output_file = open(\"depthdata.bin\", 'wb')\n",
    "output_file.write(data)\n",
    "output_file.close()"
   ]
  },
  {
   "cell_type": "code",
   "execution_count": null,
   "metadata": {},
   "outputs": [],
   "source": [
    "#START FROM HERE IF JUST WORKING WITH RAW BINARY FILES, YOU MAY NEED TO RENAME YOU DEPTH AND COLOR BINARY FILES TO depthdata.bin and colordata.bin\n",
    "\n",
    "depthframes = np.fromfile('depthdata.bin', dtype=np.uint16).reshape(-1, frame_height, frame_width)[background_chunk:number_of_frames]\n",
    "depth_background_frames = depthframes[0:background_chunk]\n",
    "depthbackgroundmean=np.mean(depth_background_frames, axis=0) #may be better to use median\n",
    "depthbackgroundvariance=np.var(depth_background_frames, axis=0)\n"
   ]
  },
  {
   "cell_type": "code",
   "execution_count": null,
   "metadata": {},
   "outputs": [],
   "source": [
    "plt.imshow(depth_background_frames[6])"
   ]
  },
  {
   "cell_type": "code",
   "execution_count": null,
   "metadata": {},
   "outputs": [],
   "source": [
    "color_background_frames = np.fromfile('colordata.bin', dtype=np.uint8, count=(int(frame_height*frame_width*background_chunk*24))).reshape(-1,frame_height, frame_width,3)[0:background_chunk]\n",
    "\n",
    "colorbackgroundmean=np.mean(color_background_frames, axis=0) #may be better to use median\n",
    "colorbackgroundvariance=np.var(color_background_frames, axis=0)\n",
    "\n",
    "colorbackgroundmean=np.dot(colorbackgroundmean[...,:3], [.33, .34, .33])\n",
    "colorbackgroundvariance=np.dot(colorbackgroundvariance[...,:3], [.33, .34, .33])"
   ]
  },
  {
   "cell_type": "code",
   "execution_count": null,
   "metadata": {},
   "outputs": [],
   "source": [
    "plt.imshow(color_background_frames[6])"
   ]
  },
  {
   "cell_type": "code",
   "execution_count": null,
   "metadata": {},
   "outputs": [],
   "source": [
    "min_range=0\n",
    "stringency=8\n",
    "current_frame=0\n",
    "colorframes = np.fromfile('colordata.bin', dtype=np.uint8).reshape(-1, frame_height, frame_width,3)[background_chunk:number_of_frames]\n",
    "\n",
    "for f in range(int(number_of_frames-background_chunk)):\n",
    "        \n",
    "    #FRAME TO PROCESS#################################################################\n",
    "    #depth\n",
    "    depth_frame_of_interest=depthframes[current_frame] \n",
    "    color_frame_of_interest=colorframes[current_frame] \n",
    "    #color\n",
    "    color_frame_of_interest=np.dot(color_frame_of_interest[...,:3], [.33, .34, .33])\n",
    "    \n",
    "    #DEPTH BACKGROUND SUBTRACTION#####################################################\n",
    "    #Background subtraction with no filters\n",
    "    \n",
    "    #IF PIXEL ISN'T SIGNIFICANTLY DIFFERENT FROM THE BACKGROUND THEN DROP IT\n",
    "    backgroundmultiplier=np.abs(depth_frame_of_interest - depthbackgroundmean) - (stringency*np.sqrt(depthbackgroundvariance)) \n",
    "    \n",
    "\n",
    "    #WE EXPECT POSITIVE VALUES FOR HIGH DIFFERENCES make them stay by multiplying by 1\n",
    "    backgroundmultiplier[backgroundmultiplier>0]=1\n",
    "    #WE EXPECT NEGATIVE VALUES FOR SMALL OR NO DIFFERENCE probably just noise, get rid of them by multiplying by 0\n",
    "    backgroundmultiplier[backgroundmultiplier<=0]=0\n",
    "       \n",
    "    # SUBTRACT BACKGROUND BY MULTIPLYING INSIGNIFIACNT FRAMES BY ZERO\n",
    "    depth_frame_of_interest_backgroundsubtracted=(np.multiply(depth_frame_of_interest,backgroundmultiplier)).astype('uint8') #IMWRITE TAKES UINT8\n",
    "    depth_frame_of_interest_backgroundsubtracted[depth_frame_of_interest_backgroundsubtracted>max_range]=0\n",
    "    depth_frame_of_interest_backgroundsubtracted[depth_frame_of_interest_backgroundsubtracted<=min_range]=0\n",
    "        \n",
    "    #FIND CENTER OF MOUSE FOR CROPPING ##########################################################################\n",
    "    #ALGORITHIM FOR FINDING THE CENTER OF THE OBJECT (TO CROP THE PLOT) (this actually works better than any built in function I've tried)\n",
    "    #basically, the row and column with the most non zero values should be the center\n",
    "    \n",
    "    #remove the triple quotes around this algorithim in order to save data as cropped pngs below\n",
    "    \"\"\"\n",
    "    winningrow=0\n",
    "    winningcountr=frame_width\n",
    "    for rowpixels in range(0,frame_height):\n",
    "        currentcountr=np.count_nonzero(depth_frame_of_interest_backgroundsubtracted[rowpixels,:]==0)\n",
    "        if currentcountr<winningcountr:\n",
    "            winningcountr=currentcountr\n",
    "            winningrow=rowpixels\n",
    "\n",
    "    winningcolumn=0\n",
    "    winningcountc=frame_height\n",
    "    for columnpixels in range(0,frame_width):\n",
    "        currentcountc=np.count_nonzero(depth_frame_of_interest_backgroundsubtracted[:,columnpixels]==0)\n",
    "        if currentcountc<winningcountc:\n",
    "            winningcountc=currentcountc\n",
    "            winningcolumn=columnpixels\n",
    "\n",
    "    if winningrow<(box_size/2):\n",
    "        winningrow=(int(box_size/2))\n",
    "    if winningrow>(frame_height-box_size/2):\n",
    "        winningrow=int(frame_height-box_size/2-1)\n",
    "    if winningcolumn<(box_size/2):\n",
    "        winningcolumn=(int(box_size/2))\n",
    "    if winningcolumn>(frame_width-box_size/2):\n",
    "        winningcolumn=int(frame_width-box_size/2-1)\n",
    "    \"\"\"\n",
    "        \n",
    "    #LABEL FRAMES ####################################################################\n",
    "\n",
    "        #THIS IS THE FRAME NUMBER (I WILL COMBINE MANY RUNS SO I'M OUTPUTTING THE MASTER FRAME NUMBER)\n",
    "    fplusd=int(f+grand_frame)\n",
    "    print(fplusd)\n",
    "       \n",
    "    #SAVE DATA AS PNGS##################################################################\n",
    "    \n",
    "        # CROPPED: THIS IS HOW I SHOULD SAVE ARRAYS SO THEY COME OUT AS 192 by 192 FOR IMAGE ANALYSIS (IT'S SMALLER!)\n",
    "    #imageio.imwrite(experiment + '_depth_frames/depth_frame_%06d.png' %(fplusd),depth_frame_of_interest_backgroundsubtracted[winningrow-int(box_size/2):winningrow+int(box_size/2),winningcolumn-int(box_size/2):winningcolumn+int(box_size/2)])\n",
    "    #imageio.imwrite(experiment + '_color_frames/color_frame_%06d.png' %(fplusd),color_frame_of_interest[winningrow-int(box_size/2):winningrow+int(box_size/2),winningcolumn-int(box_size/2):winningcolumn+int(box_size/2)])\n",
    "    \n",
    "        # SAVE DATA AS PNGS (FULL SIZE)\n",
    "    imageio.imwrite(experiment + '_color_frames/color_frame_%06d.png' %(fplusd),color_frame_of_interest)\n",
    "    imageio.imwrite(experiment + '_color_frames/color_frame_%06d.png' %(fplusd),color_frame_of_interest)\n",
    "\n",
    "    current_frame=current_frame+1\n",
    "        "
   ]
  },
  {
   "cell_type": "code",
   "execution_count": null,
   "metadata": {},
   "outputs": [],
   "source": [
    "plt.imshow(color_frame_of_interest)"
   ]
  },
  {
   "cell_type": "code",
   "execution_count": null,
   "metadata": {},
   "outputs": [],
   "source": [
    "plt.imshow(np.subtract(color_frame_of_interest,(colorbackgroundmean/255)))"
   ]
  },
  {
   "cell_type": "code",
   "execution_count": null,
   "metadata": {},
   "outputs": [],
   "source": [
    "x=np.subtract(color_frame_of_interest,(colorbackgroundmean/255))\n",
    "x[x<.1]=0"
   ]
  },
  {
   "cell_type": "code",
   "execution_count": null,
   "metadata": {},
   "outputs": [],
   "source": [
    "np.sqrt(colorbackgroundvariance)"
   ]
  },
  {
   "cell_type": "code",
   "execution_count": null,
   "metadata": {},
   "outputs": [],
   "source": [
    "color_frame_of_interest*255"
   ]
  },
  {
   "cell_type": "code",
   "execution_count": null,
   "metadata": {},
   "outputs": [],
   "source": [
    "np.divide(abs(np.subtract(color_frame_of_interest*255,np.sqrt(colorbackgroundvariance))),"
   ]
  },
  {
   "cell_type": "code",
   "execution_count": null,
   "metadata": {},
   "outputs": [],
   "source": [
    "plt.imshow(x)"
   ]
  },
  {
   "cell_type": "code",
   "execution_count": null,
   "metadata": {},
   "outputs": [],
   "source": [
    "plt.imshow(depth_frame_of_interest_backgroundsubtracted)"
   ]
  },
  {
   "cell_type": "code",
   "execution_count": null,
   "metadata": {},
   "outputs": [],
   "source": [
    "#you can choose to remove the thing you just unzipped\n",
    "#!rm colordata.bin\n",
    "#!rm depthdata.bin"
   ]
  },
  {
   "cell_type": "code",
   "execution_count": null,
   "metadata": {},
   "outputs": [],
   "source": [
    "plt.hist(frame_of_interest_backgroundsubtracted[frame_of_interest_backgroundsubtracted != 0],bins=range(-1000,1000))\n",
    "plt.show()"
   ]
  },
  {
   "cell_type": "code",
   "execution_count": null,
   "metadata": {},
   "outputs": [],
   "source": [
    "#when finished processing on the cluster I can transfer files back to my desktop with...\n",
    "# !scp -r ra206@transfer.rc.hms.harvard.edu:/n/groups/datta/rockwell/Real_Sensible_Moseq/data_acquisition/180731_000002/180731_000002_depth_frames/  ~/Real_Sensible_Moseq/data\n",
    "\n",
    "#I can make mp4s with\n",
    "#!ffmpeg -r 30 -i /home/rockwell/Real_Sensible_Moseq/data_acquisition/nowalls/nowalls_depth_frame_%06d.png -c:v libx264 -vf fps=90 -pix_fmt yuv420p -r 30 nowalls_depth.mp4\n"
   ]
  }
 ],
 "metadata": {
  "kernelspec": {
   "display_name": "Python 3",
   "language": "python",
   "name": "python3"
  },
  "language_info": {
   "codemirror_mode": {
    "name": "ipython",
    "version": 3
   },
   "file_extension": ".py",
   "mimetype": "text/x-python",
   "name": "python",
   "nbconvert_exporter": "python",
   "pygments_lexer": "ipython3",
   "version": "3.6.4"
  }
 },
 "nbformat": 4,
 "nbformat_minor": 2
}
