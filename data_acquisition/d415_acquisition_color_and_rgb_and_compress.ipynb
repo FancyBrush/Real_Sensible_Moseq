{
 "cells": [
  {
   "cell_type": "code",
   "execution_count": 1,
   "metadata": {},
   "outputs": [],
   "source": [
    "number_of_frames_to_record=2000 #3000\n",
    "background_chunk=100\n",
    "frame_width=640\n",
    "frame_height=480\n",
    "fps=30\n",
    "preset_json_file=\"d415paramset_640480.json\"\n",
    "import gzip\n",
    "import shutil"
   ]
  },
  {
   "cell_type": "code",
   "execution_count": 2,
   "metadata": {},
   "outputs": [],
   "source": [
    "import sys\n",
    "sys.path.append('/usr/local/lib')"
   ]
  },
  {
   "cell_type": "code",
   "execution_count": 3,
   "metadata": {},
   "outputs": [],
   "source": [
    "import matplotlib.pyplot as plt\n",
    "import numpy as np\n",
    "import random\n",
    "import matplotlib.colors as mcol\n",
    "import matplotlib.cm as cm\n",
    "import math\n",
    "import imageio\n",
    "import pickle\n",
    "import gc\n",
    "import os\n",
    "abra=os.getcwd()\n",
    "import time\n",
    "import json\n",
    "import pyrealsense2 as rs\n",
    "import gzip\n",
    "import cv2\n",
    "from scipy import stats\n",
    "from scipy import ndimage #for finding com\n",
    "from scipy.misc import imsave\n",
    "from itertools import cycle\n",
    "cycol = cycle('bgrcmk') #here I'm generating a list of colors I can plot\n"
   ]
  },
  {
   "cell_type": "code",
   "execution_count": 4,
   "metadata": {},
   "outputs": [
    {
     "name": "stdout",
     "output_type": "stream",
     "text": [
      "Found device that supports advanced mode: Intel RealSense D415\n",
      "Advanced mode is enabled\n"
     ]
    }
   ],
   "source": [
    "# Enabling Advanced Mode\n",
    "\n",
    "DS5_product_ids = [\"0AD1\", \"0AD2\", \"0AD3\", \"0AD4\", \"0AD5\", \"0AF6\", \"0AFE\", \"0AFF\", \"0B00\", \"0B01\", \"0B03\", \"0B07\"]\n",
    "\n",
    "def find_device_that_supports_advanced_mode() :\n",
    "    ctx = rs.context()\n",
    "    ds5_dev = rs.device()\n",
    "    devices = ctx.query_devices();\n",
    "    for dev in devices:\n",
    "        if dev.supports(rs.camera_info.product_id) and str(dev.get_info(rs.camera_info.product_id)) in DS5_product_ids:\n",
    "            if dev.supports(rs.camera_info.name):\n",
    "                print(\"Found device that supports advanced mode:\", dev.get_info(rs.camera_info.name))\n",
    "            return dev\n",
    "    raise Exception(\"No device that supports advanced mode was found\")\n",
    "\n",
    "try:\n",
    "    dev = find_device_that_supports_advanced_mode()\n",
    "    advnc_mode = rs.rs400_advanced_mode(dev)\n",
    "    print(\"Advanced mode is\", \"enabled\" if advnc_mode.is_enabled() else \"disabled\")\n",
    "\n",
    "    # Loop until we successfully enable advanced mode\n",
    "    while not advnc_mode.is_enabled():\n",
    "        print(\"Trying to enable advanced mode...\")\n",
    "        advnc_mode.toggle_advanced_mode(True)\n",
    "        # At this point the device will disconnect and re-connect.\n",
    "        print(\"Sleeping for 5 seconds...\")\n",
    "        time.sleep(5)\n",
    "        # The 'dev' object will become invalid and we need to initialize it again\n",
    "        dev = find_device_that_supports_advanced_mode()\n",
    "        advnc_mode = rs.rs400_advanced_mode(dev)\n",
    "        print(\"Advanced mode is\", \"enabled\" if advnc_mode.is_enabled() else \"disabled\")\n",
    "\n",
    "    \n",
    "except Exception as e:\n",
    "    print(e)\n",
    "pass"
   ]
  },
  {
   "cell_type": "code",
   "execution_count": 5,
   "metadata": {
    "scrolled": true
   },
   "outputs": [
    {
     "name": "stdout",
     "output_type": "stream",
     "text": [
      "{\"aux-param-autoexposure-setpoint\": \"400\", \"aux-param-colorcorrection1\": \"0.461914\", \"aux-param-colorcorrection10\": \"-0.553711\", \"aux-param-colorcorrection11\": \"-0.553711\", \"aux-param-colorcorrection12\": \"0.0458984\", \"aux-param-colorcorrection2\": \"0.540039\", \"aux-param-colorcorrection3\": \"0.540039\", \"aux-param-colorcorrection4\": \"0.208008\", \"aux-param-colorcorrection5\": \"-0.332031\", \"aux-param-colorcorrection6\": \"-0.212891\", \"aux-param-colorcorrection7\": \"-0.212891\", \"aux-param-colorcorrection8\": \"0.68457\", \"aux-param-colorcorrection9\": \"0.930664\", \"aux-param-depthclampmax\": \"65536\", \"aux-param-depthclampmin\": \"0\", \"aux-param-disparityshift\": \"0\", \"controls-autoexposure-auto\": \"True\", \"controls-autoexposure-manual\": \"33000\", \"controls-color-autoexposure-auto\": \"True\", \"controls-color-autoexposure-manual\": \"166\", \"controls-color-backlight-compensation\": \"0\", \"controls-color-brightness\": \"0\", \"controls-color-contrast\": \"50\", \"controls-color-gain\": \"64\", \"controls-color-gamma\": \"300\", \"controls-color-hue\": \"0\", \"controls-color-power-line-frequency\": \"3\", \"controls-color-saturation\": \"64\", \"controls-color-sharpness\": \"50\", \"controls-color-white-balance-auto\": \"True\", \"controls-color-white-balance-manual\": \"4600\", \"controls-depth-gain\": \"16\", \"controls-depth-white-balance-auto\": \"False\", \"controls-laserpower\": \"150\", \"controls-laserstate\": \"on\", \"ignoreSAD\": \"0\", \"param-autoexposure-setpoint\": \"400\", \"param-censusenablereg-udiameter\": \"9\", \"param-censusenablereg-vdiameter\": \"9\", \"param-censususize\": \"9\", \"param-censusvsize\": \"9\", \"param-depthclampmax\": \"65536\", \"param-depthclampmin\": \"0\", \"param-depthunits\": \"1000\", \"param-disableraucolor\": \"0\", \"param-disablesadcolor\": \"0\", \"param-disablesadnormalize\": \"0\", \"param-disablesloleftcolor\": \"0\", \"param-disableslorightcolor\": \"0\", \"param-disparitymode\": \"0\", \"param-disparityshift\": \"0\", \"param-lambdaad\": \"800\", \"param-lambdacensus\": \"26\", \"param-leftrightthreshold\": \"24\", \"param-maxscorethreshb\": \"2047\", \"param-medianthreshold\": \"500\", \"param-minscorethresha\": \"1\", \"param-neighborthresh\": \"7\", \"param-raumine\": \"1\", \"param-rauminn\": \"1\", \"param-rauminnssum\": \"3\", \"param-raumins\": \"1\", \"param-rauminw\": \"1\", \"param-rauminwesum\": \"3\", \"param-regioncolorthresholdb\": \"0.0499022\", \"param-regioncolorthresholdg\": \"0.0499022\", \"param-regioncolorthresholdr\": \"0.0499022\", \"param-regionshrinku\": \"3\", \"param-regionshrinkv\": \"1\", \"param-robbinsmonrodecrement\": \"10\", \"param-robbinsmonroincrement\": \"10\", \"param-rsmdiffthreshold\": \"4\", \"param-rsmrauslodiffthreshold\": \"1\", \"param-rsmremovethreshold\": \"0.375\", \"param-scanlineedgetaub\": \"72\", \"param-scanlineedgetaug\": \"72\", \"param-scanlineedgetaur\": \"72\", \"param-scanlinep1\": \"60\", \"param-scanlinep1onediscon\": \"511\", \"param-scanlinep1twodiscon\": \"511\", \"param-scanlinep2\": \"511\", \"param-scanlinep2onediscon\": \"511\", \"param-scanlinep2twodiscon\": \"511\", \"param-secondpeakdelta\": \"325\", \"param-texturecountthresh\": \"0\", \"param-texturedifferencethresh\": \"0\", \"param-usersm\": \"1\", \"param-zunits\": \"1000\", \"stream-depth-format\": \"Z16\", \"stream-fps\": \"30\", \"stream-height\": \"480\", \"stream-width\": \"640\"}\n"
     ]
    }
   ],
   "source": [
    "# Loading presaved parameters \n",
    "  \n",
    "with open(preset_json_file) as json_data: #Json file to be loaded #NOTE im using default NOT the json that I just created above\n",
    "    starting_params = json.load(json_data)\n",
    "    starting_params=str(starting_params).replace(\"'\", '\\\"') #IF YOU DON't DO THIS IT WILL NOT WORK with the librealsense sdk\n",
    "    print(starting_params)"
   ]
  },
  {
   "cell_type": "code",
   "execution_count": 6,
   "metadata": {},
   "outputs": [],
   "source": [
    "#Experimental Loop\n",
    "\n",
    "# Configure depth and color streams\n",
    "pipeline = rs.pipeline()\n",
    "config = rs.config()\n",
    "config.enable_stream(rs.stream.depth, frame_width, frame_height, rs.format.z16, fps)\n",
    "config.enable_stream(rs.stream.color, frame_width, frame_height, rs.format.bgr8, 30)\n",
    "advnc_mode.load_json(starting_params) #this is where I start with the Defualt Json\n",
    "# Start streaming\n",
    "cfg = pipeline.start(config)\n",
    "dev = cfg.get_device()\n",
    "depth_sensor = dev.first_depth_sensor()\n",
    "\n",
    "#If I was applying a spatial filter...\n",
    "#sf=rs.spatial_filter() \n",
    "#sf.set_option()\n",
    "\n",
    "tick=0; "
   ]
  },
  {
   "cell_type": "code",
   "execution_count": 7,
   "metadata": {},
   "outputs": [
    {
     "name": "stdout",
     "output_type": "stream",
     "text": [
      "please insert object to record and enter YYMMDD_exp######  180731_000001\n",
      "Time Elapsed =  99.53569149971008\n",
      "Final Parameters =  {\"aux-param-autoexposure-setpoint\": \"400\", \"aux-param-colorcorrection1\": \"0.461914\", \"aux-param-colorcorrection10\": \"-0.553711\", \"aux-param-colorcorrection11\": \"-0.553711\", \"aux-param-colorcorrection12\": \"0.0458984\", \"aux-param-colorcorrection2\": \"0.540039\", \"aux-param-colorcorrection3\": \"0.540039\", \"aux-param-colorcorrection4\": \"0.208008\", \"aux-param-colorcorrection5\": \"-0.332031\", \"aux-param-colorcorrection6\": \"-0.212891\", \"aux-param-colorcorrection7\": \"-0.212891\", \"aux-param-colorcorrection8\": \"0.68457\", \"aux-param-colorcorrection9\": \"0.930664\", \"aux-param-depthclampmax\": \"65536\", \"aux-param-depthclampmin\": \"0\", \"aux-param-disparityshift\": \"0\", \"controls-autoexposure-auto\": \"True\", \"controls-autoexposure-manual\": \"33000\", \"controls-color-autoexposure-auto\": \"True\", \"controls-color-autoexposure-manual\": \"166\", \"controls-color-backlight-compensation\": \"0\", \"controls-color-brightness\": \"0\", \"controls-color-contrast\": \"50\", \"controls-color-gain\": \"64\", \"controls-color-gamma\": \"300\", \"controls-color-hue\": \"0\", \"controls-color-power-line-frequency\": \"3\", \"controls-color-saturation\": \"64\", \"controls-color-sharpness\": \"50\", \"controls-color-white-balance-auto\": \"True\", \"controls-color-white-balance-manual\": \"4600\", \"controls-depth-gain\": \"16\", \"controls-depth-white-balance-auto\": \"False\", \"controls-laserpower\": \"150\", \"controls-laserstate\": \"on\", \"ignoreSAD\": \"0\", \"param-autoexposure-setpoint\": \"400\", \"param-censusenablereg-udiameter\": \"9\", \"param-censusenablereg-vdiameter\": \"9\", \"param-censususize\": \"9\", \"param-censusvsize\": \"9\", \"param-depthclampmax\": \"65536\", \"param-depthclampmin\": \"0\", \"param-depthunits\": \"1000\", \"param-disableraucolor\": \"0\", \"param-disablesadcolor\": \"0\", \"param-disablesadnormalize\": \"0\", \"param-disablesloleftcolor\": \"0\", \"param-disableslorightcolor\": \"0\", \"param-disparitymode\": \"0\", \"param-disparityshift\": \"0\", \"param-lambdaad\": \"800\", \"param-lambdacensus\": \"26\", \"param-leftrightthreshold\": \"24\", \"param-maxscorethreshb\": \"2047\", \"param-medianthreshold\": \"500\", \"param-minscorethresha\": \"1\", \"param-neighborthresh\": \"7\", \"param-raumine\": \"1\", \"param-rauminn\": \"1\", \"param-rauminnssum\": \"3\", \"param-raumins\": \"1\", \"param-rauminw\": \"1\", \"param-rauminwesum\": \"3\", \"param-regioncolorthresholdb\": \"0.0499022\", \"param-regioncolorthresholdg\": \"0.0499022\", \"param-regioncolorthresholdr\": \"0.0499022\", \"param-regionshrinku\": \"3\", \"param-regionshrinkv\": \"1\", \"param-robbinsmonrodecrement\": \"10\", \"param-robbinsmonroincrement\": \"10\", \"param-rsmdiffthreshold\": \"4\", \"param-rsmrauslodiffthreshold\": \"1\", \"param-rsmremovethreshold\": \"0.375\", \"param-scanlineedgetaub\": \"72\", \"param-scanlineedgetaug\": \"72\", \"param-scanlineedgetaur\": \"72\", \"param-scanlinep1\": \"60\", \"param-scanlinep1onediscon\": \"511\", \"param-scanlinep1twodiscon\": \"511\", \"param-scanlinep2\": \"511\", \"param-scanlinep2onediscon\": \"511\", \"param-scanlinep2twodiscon\": \"511\", \"param-secondpeakdelta\": \"325\", \"param-texturecountthresh\": \"0\", \"param-texturedifferencethresh\": \"0\", \"param-usersm\": \"1\", \"param-zunits\": \"1000\"}\n"
     ]
    }
   ],
   "source": [
    "start_of_loop=time.time()\n",
    "with open('pythondepthdata.bin','ab') as depthbinarydata, open('pythoncolordata.bin', 'ab') as colorbinarydata: #While the file called \"pythonedpthdata.bin\" is open for appending binary, \n",
    "    try:\n",
    "        while tick<number_of_frames_to_record: \n",
    "            tick=tick+1 \n",
    "            \n",
    "            # Wait for a coherent pair of frames: depth and color\n",
    "            frames = pipeline.wait_for_frames()\n",
    "            depth_frame = frames.get_depth_frame()\n",
    "            #depth_frame = sf.process(depth_frame); #apply a filter like this\n",
    "\n",
    "            color_frame = frames.get_color_frame()\n",
    "\n",
    "           \n",
    "            # Convert images to numpy arrays\n",
    "            depth_image = np.asanyarray(depth_frame.get_data())\n",
    "            depth_image.tofile(depthbinarydata) #save data as binarydata (specified by the with open as line)\n",
    "            \n",
    "            color_image = np.asanyarray(color_frame.get_data())\n",
    "            color_image.tofile(colorbinarydata) #save data as binarydata (specified by the with open as line)\n",
    "\n",
    "            if tick==background_chunk:\n",
    "                output=input(\"please insert object to record and enter YYMMDD_exp######  \")\n",
    "        \n",
    "            with open('depth_ts.txt', 'a') as ts:\n",
    "                ts.write('%s\\n' %rs.frame.get_timestamp(frames)) #write time stamp float as a string to a new line\n",
    "\n",
    "    finally:\n",
    "\n",
    "        # Stop streaming\n",
    "        pipeline.stop()\n",
    "        end_of_loop=time.time() #end timer\n",
    "        print(\"Time Elapsed = \", end_of_loop - start_of_loop)\n",
    "        serialized_string = advnc_mode.serialize_json() #getting the current parameters as a serialized string\n",
    "        as_json_object = json.loads(serialized_string) #loading the json object from the serialized string\n",
    "        json_used_in_experiment = str(as_json_object).replace(\"'\", '\\\"') #converting object into string that can be printed\n",
    "        print(\"Final Parameters = \", json_used_in_experiment)"
   ]
  },
  {
   "cell_type": "code",
   "execution_count": 8,
   "metadata": {},
   "outputs": [],
   "source": [
    "#Make folder to store data\n",
    "os.mkdir(output)"
   ]
  },
  {
   "cell_type": "code",
   "execution_count": 9,
   "metadata": {},
   "outputs": [],
   "source": [
    "#Create file name and destination in one go! \n",
    "depthfilename=abra+'/%s/%s_raw_depth.gz'%(output,output)\n",
    "colorfilename=abra+'/%s/%s_raw_color.gz'%(output,output)\n",
    "timestampfilename=abra+\"/%s/%s_depth_ts.txt\"%(output,output)"
   ]
  },
  {
   "cell_type": "code",
   "execution_count": 10,
   "metadata": {},
   "outputs": [
    {
     "name": "stdout",
     "output_type": "stream",
     "text": [
      "130.760235786438\n"
     ]
    }
   ],
   "source": [
    "#Compress depth data\n",
    "before_compress=time.time()\n",
    "\n",
    "\n",
    "file=open('pythondepthdata.bin','rb')\n",
    "file.seek(0,0)\n",
    "outF = gzip.GzipFile(depthfilename, 'wb')\n",
    "shutil.copyfileobj(file,outF)\n",
    "outF.close()\n",
    "\n",
    "\n",
    "after_compress=time.time()\n",
    "print(after_compress - before_compress)"
   ]
  },
  {
   "cell_type": "code",
   "execution_count": 11,
   "metadata": {},
   "outputs": [
    {
     "name": "stdout",
     "output_type": "stream",
     "text": [
      "62.54849171638489\n"
     ]
    }
   ],
   "source": [
    "#Compress color data\n",
    "before_compress=time.time()\n",
    "\n",
    "\n",
    "cfile=open('pythoncolordata.bin','rb')\n",
    "cfile.seek(0,0)\n",
    "coutF = gzip.GzipFile(colorfilename, 'wb')\n",
    "shutil.copyfileobj(cfile,coutF)\n",
    "coutF.close() # EVERYTHING FAILS IF YOU DONT CLOSE FILE LMAO\n",
    "\n",
    "\n",
    "after_compress=time.time()\n",
    "print(after_compress - before_compress)"
   ]
  },
  {
   "cell_type": "code",
   "execution_count": 12,
   "metadata": {},
   "outputs": [
    {
     "data": {
      "text/plain": [
       "\"\\n#compress color data\\nfile=open('pythoncolordata.bin','rb')\\nfiledata = file.read()\\nfile.close()\\n\\n! rm 'pythoncolordata.bin'\\n\\noutF = gzip.GzipFile(colorfilename, 'wb')\\noutF.write(filedata)\\noutF.close()\\n\""
      ]
     },
     "execution_count": 12,
     "metadata": {},
     "output_type": "execute_result"
    }
   ],
   "source": [
    "# This method worked for compression data but was super slow. shutil is much more efficient since it automatically does chunks\n",
    "\"\"\"\n",
    "#compress color data\n",
    "file=open('pythoncolordata.bin','rb')\n",
    "filedata = file.read()\n",
    "file.close()\n",
    "\n",
    "! rm 'pythoncolordata.bin'\n",
    "\n",
    "outF = gzip.GzipFile(colorfilename, 'wb')\n",
    "outF.write(filedata)\n",
    "outF.close()\n",
    "\"\"\""
   ]
  },
  {
   "cell_type": "code",
   "execution_count": 13,
   "metadata": {},
   "outputs": [],
   "source": [
    "os.rename('depth_ts.txt', timestampfilename)"
   ]
  },
  {
   "cell_type": "code",
   "execution_count": 14,
   "metadata": {},
   "outputs": [],
   "source": [
    "with open(abra + '/' + output + '/' + output + '_variables', 'wb') as variables:\n",
    "    pickle.dump([number_of_frames_to_record,frame_height,frame_width,fps,background_chunk],variables)"
   ]
  },
  {
   "cell_type": "code",
   "execution_count": 15,
   "metadata": {},
   "outputs": [
    {
     "data": {
      "text/plain": [
       "'/home/rockwell/Real_Sensible_Moseq/data_acquisition/180731_000001_variables'"
      ]
     },
     "execution_count": 15,
     "metadata": {},
     "output_type": "execute_result"
    }
   ],
   "source": [
    "abra + '/' + output + '_variables'"
   ]
  },
  {
   "cell_type": "code",
   "execution_count": 16,
   "metadata": {},
   "outputs": [],
   "source": [
    "#If only testing then remove data\n",
    "#! rm 'depth_ts.txt'"
   ]
  },
  {
   "cell_type": "code",
   "execution_count": 17,
   "metadata": {},
   "outputs": [],
   "source": [
    "!rm pythondepthdata.bin\n",
    "!rm pythoncolordata.bin"
   ]
  },
  {
   "cell_type": "code",
   "execution_count": 18,
   "metadata": {},
   "outputs": [],
   "source": [
    "# if data looks good then scp to cluster for processing \n",
    "# scp 'pythondepthdata.bin' ra206@transfer.rc.hms.harvard.edu:~\n",
    "# scp 'pythoncolordata.bin' ra206@transfer.rc.hms.harvard.edu:~\n",
    "# scp 'depth_ts.txt' ra206@transfer.rc.hms.harvard.edu:~"
   ]
  },
  {
   "cell_type": "code",
   "execution_count": 19,
   "metadata": {},
   "outputs": [],
   "source": [
    "# while this code works the data gets to enormous sizes. Need to be able to compress on the fly"
   ]
  }
 ],
 "metadata": {
  "kernelspec": {
   "display_name": "Python 3",
   "language": "python",
   "name": "python3"
  },
  "language_info": {
   "codemirror_mode": {
    "name": "ipython",
    "version": 3
   },
   "file_extension": ".py",
   "mimetype": "text/x-python",
   "name": "python",
   "nbconvert_exporter": "python",
   "pygments_lexer": "ipython3",
   "version": "3.6.4"
  }
 },
 "nbformat": 4,
 "nbformat_minor": 2
}
