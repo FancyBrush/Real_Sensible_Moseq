{
 "cells": [
  {
   "cell_type": "code",
   "execution_count": 29,
   "metadata": {},
   "outputs": [],
   "source": [
    "#Converting uint16 binary video format into MP4"
   ]
  },
  {
   "cell_type": "code",
   "execution_count": 30,
   "metadata": {},
   "outputs": [],
   "source": [
    "import imageio\n",
    "import random\n",
    "import numpy as np\n",
    "import warnings\n",
    "warnings.filterwarnings('ignore') #will get warning about conversion of uint16 to uint8"
   ]
  },
  {
   "cell_type": "code",
   "execution_count": 31,
   "metadata": {},
   "outputs": [],
   "source": [
    "inputbinaryfile='20180702_1' #Input file name and exclude the .bin extension \n",
    "height=480\n",
    "width=640\n",
    "fps=90\n",
    "background_chunk=100 #number of frames that will be used to calculate the background"
   ]
  },
  {
   "cell_type": "code",
   "execution_count": 32,
   "metadata": {},
   "outputs": [],
   "source": [
    "inputfilename=inputbinaryfile+'.bin'\n",
    "outputfilename=inputbinaryfile+'.mp4'"
   ]
  },
  {
   "cell_type": "code",
   "execution_count": 33,
   "metadata": {},
   "outputs": [
    {
     "name": "stdout",
     "output_type": "stream",
     "text": [
      "The shape of the video is 480 by 640 and it has 2000 frames\n"
     ]
    }
   ],
   "source": [
    "rawframes = (np.fromfile(inputfilename, dtype=np.uint16)).reshape(-1,height,width) #A highly efficient way of reading binary data with a known data-type, as well as parsing simply formatted text files. Data written using the tofile method can be read using this function.\n",
    "number_of_frames,video_height,video_width=rawframes.shape[0],rawframes.shape[1],rawframes.shape[2];\n",
    "#set number of frames equal to the first element in reshaped.shape\n",
    "#set video height to the second element in reshaped.shape\n",
    "#set video width to the third element in reshaped.shape\n",
    "print('The shape of the video is {0} by {1} and it has {2} frames'.format(video_height,video_width,number_of_frames))\n",
    "#note that the nubmers below are one greater than the actual indices that exist\n",
    "#there is no reshaped[number_of_frames,height,width], the last frame is reshaped[number_of_frames-1,height-1,width-1]"
   ]
  },
  {
   "cell_type": "code",
   "execution_count": 34,
   "metadata": {},
   "outputs": [],
   "source": [
    "#For my background calculation I want to use background_chunk number of frames\n",
    "#This strategy only works if the object of interest is in motion!\n",
    "#It's actually much better to first record a background and THEN record your object of interest (which is dont in other scripts)\n",
    "background_step=int(number_of_frames/background_chunk) #I will generate a list of indices to calculate the background. They will be equidistant\n",
    "idx=[] #here is the empty list\n",
    "for i in range(0,number_of_frames,background_step):\n",
    "    idx.append(i)"
   ]
  },
  {
   "cell_type": "code",
   "execution_count": 35,
   "metadata": {},
   "outputs": [],
   "source": [
    "#backgroundmean=np.median(rawframes[0:background_chunk], axis=0) #may be better to use median\n",
    "#I'm using the frames at position idx to calculate the background\n",
    "backgroundmedian=np.median(rawframes[idx], axis=0) #may be better to use median \n",
    "backgroundvariance=np.var(rawframes[idx], axis=0)"
   ]
  },
  {
   "cell_type": "code",
   "execution_count": 36,
   "metadata": {},
   "outputs": [],
   "source": [
    "backgroundmultiplier=np.abs(rawframes - backgroundmedian) - (9*np.sqrt(backgroundvariance)) #if its 5 standard its NOISE\n",
    "#we expect positive values for high differences. make them stay by multiplying by 1\n",
    "backgroundmultiplier[backgroundmultiplier>0]=1\n",
    "#we expect negative values or no change for small differences. probably just noise, get rid of them by multiplying by 0\n",
    "backgroundmultiplier[backgroundmultiplier<=0]=0\n",
    "#apply our expectations to the matrix\n",
    "rawframes_backgroundsubtracted=np.multiply(rawframes,backgroundmultiplier)"
   ]
  },
  {
   "cell_type": "code",
   "execution_count": 37,
   "metadata": {},
   "outputs": [],
   "source": [
    "rawframes_backgroundsubtracted=np.multiply(rawframes,backgroundmultiplier)"
   ]
  },
  {
   "cell_type": "code",
   "execution_count": 38,
   "metadata": {},
   "outputs": [],
   "source": [
    "imageio.mimwrite(outputfilename, rawframes_backgroundsubtracted , fps = fps)"
   ]
  },
  {
   "cell_type": "code",
   "execution_count": 39,
   "metadata": {},
   "outputs": [],
   "source": [
    "from IPython.display import HTML"
   ]
  },
  {
   "cell_type": "code",
   "execution_count": 40,
   "metadata": {},
   "outputs": [],
   "source": [
    "#creating a simlink to visualize the movie in jupyter notebook\n",
    "!ln -s /Users/ranyoha/Real_Sensible_Moseq/data_acquisition/20180702_1.mp4 /Users/ranyoha/Real_Sensible_Moseq/data_acquisition/sim_20180702_1.mp4"
   ]
  },
  {
   "cell_type": "code",
   "execution_count": 41,
   "metadata": {},
   "outputs": [
    {
     "data": {
      "text/html": [
       "\n",
       "<video width=\"640\" height=\"480\" controls>\n",
       "  <source src=\"sim_20180702_1.mp4\" type=\"video/mp4\">\n",
       "</video>\n"
      ],
      "text/plain": [
       "<IPython.core.display.HTML object>"
      ]
     },
     "execution_count": 41,
     "metadata": {},
     "output_type": "execute_result"
    }
   ],
   "source": [
    "HTML(\"\"\"\n",
    "<video width=\"640\" height=\"480\" controls>\n",
    "  <source src=\"sim_20180702_1.mp4\" type=\"video/mp4\">\n",
    "</video>\n",
    "\"\"\")"
   ]
  }
 ],
 "metadata": {
  "kernelspec": {
   "display_name": "Python 3",
   "language": "python",
   "name": "python3"
  },
  "language_info": {
   "codemirror_mode": {
    "name": "ipython",
    "version": 3
   },
   "file_extension": ".py",
   "mimetype": "text/x-python",
   "name": "python",
   "nbconvert_exporter": "python",
   "pygments_lexer": "ipython3",
   "version": "3.6.4"
  }
 },
 "nbformat": 4,
 "nbformat_minor": 2
}
