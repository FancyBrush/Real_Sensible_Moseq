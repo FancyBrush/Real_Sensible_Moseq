{
 "cells": [
  {
   "cell_type": "code",
   "execution_count": null,
   "metadata": {},
   "outputs": [],
   "source": [
    "import matplotlib.pyplot as plt\n",
    "import numpy as np\n",
    "import random\n",
    "import gzip\n",
    "import matplotlib.colors as mcol\n",
    "import matplotlib.cm as cm\n",
    "import pickle\n",
    "import os\n",
    "import imageio\n",
    "import gc\n",
    "import cv2\n",
    "from scipy import stats\n",
    "from scipy import ndimage #for finding com\n",
    "from scipy.misc import imsave\n",
    "from itertools import cycle\n",
    "cycol = cycle('bgrcmk') #here I'm generating a list of colors I can plot"
   ]
  },
  {
   "cell_type": "code",
   "execution_count": null,
   "metadata": {},
   "outputs": [],
   "source": [
    "with open(experiment+'_variables', 'rb') as variables:\n",
    "    number_of_frames,frame_height,frame_width,fps,background_chunk = pickle.load(variables)\n",
    "    \n",
    "exp_numb=0\n",
    "box_size=192\n",
    "stringency=10\n",
    "grand_frame=int(exp_numb*(number_of_frames-background_chunk))\n",
    "min_range=0\n",
    "max_range=800 #1000"
   ]
  },
  {
   "cell_type": "code",
   "execution_count": null,
   "metadata": {},
   "outputs": [],
   "source": [
    "experiment=input(\"Regarding experiment date and number (six digit id): Enter YYMMDD_######   -\")\n",
    "os.mkdir(experiment)"
   ]
  },
  {
   "cell_type": "code",
   "execution_count": null,
   "metadata": {},
   "outputs": [],
   "source": [
    "depthfilename='%s_raw_depth.gz'%experiment\n",
    "colorfilename='%s_raw_color.gz'%experiment"
   ]
  },
  {
   "cell_type": "code",
   "execution_count": null,
   "metadata": {},
   "outputs": [],
   "source": [
    "#Load and uncompress data\n",
    "input_file = gzip.GzipFile(depthfilename, 'rb')\n",
    "data = input_file.read()\n",
    "input_file.close()\n",
    "\n",
    "output_file = open(\"depthdata.bin\", 'wb')\n",
    "output_file.write(data)\n",
    "output_file.close()"
   ]
  },
  {
   "cell_type": "code",
   "execution_count": null,
   "metadata": {},
   "outputs": [],
   "source": [
    "background_frames = np.fromfile('depthdata.bin', dtype=np.uint16, count=(int(frame_height*frame_width*background_chunk*16))).reshape(-1, frame_height, frame_width)[0:background_chunk]\n",
    "\n",
    "backgroundmean=np.mean(background_frames, axis=0) #may be better to use median\n",
    "backgroundvariance=np.var(background_frames, axis=0)"
   ]
  },
  {
   "cell_type": "code",
   "execution_count": null,
   "metadata": {},
   "outputs": [],
   "source": [
    "plt.imshow(background_frames[6])"
   ]
  },
  {
   "cell_type": "code",
   "execution_count": null,
   "metadata": {},
   "outputs": [],
   "source": [
    "current_frame=0\n",
    "frames = np.fromfile('depthdata.bin', dtype=np.uint16).reshape(-1, frame_height, frame_width)[background_chunk:number_of_frames_to_record]\n",
    "for f in range(int(number_of_frames_to_record-background_chunk)):\n",
    "        \n",
    "    #FRAME TO PROCESS\n",
    "    frame_of_interest=frames[current_frame] \n",
    "        \n",
    "    #IF PIXEL ISN'T SIGNIFICANTLY DIFFERENT FROM THE BACKGROUND THEN DROP IT\n",
    "    backgroundmultiplier=np.abs(frame_of_interest - backgroundmean) - (stringency*np.sqrt(backgroundvariance)) \n",
    "\n",
    "    #WE EXPECT POSITIVE VALUES FOR HIGH DIFFERENCES make them stay by multiplying by 1\n",
    "    backgroundmultiplier[backgroundmultiplier>0]=1\n",
    "    #WE EXPECT NEGATIVE VALUES FOR SMALL OR NO DIFFERENCE probably just noise, get rid of them by multiplying by 0\n",
    "    backgroundmultiplier[backgroundmultiplier<=0]=0\n",
    "       \n",
    "    # SUBTRACT BACKGROUND BY MULTIPLYING INSIGNIFIACNT FRAMES BY ZERO\n",
    "    frame_of_interest_backgroundsubtracted=(np.multiply(frame_of_interest,backgroundmultiplier)).astype('uint8') #IMWRITE TAKES UINT8\n",
    "    frame_of_interest_backgroundsubtracted[frame_of_interest_backgroundsubtracted>max_range]=0\n",
    "    frame_of_interest_backgroundsubtracted[frame_of_interest_backgroundsubtracted<=min_range]=0\n",
    "        \n",
    "    #################################################################\n",
    "    #ALGORITHIM FOR FINDING THE CENTER OF THE OBJECT (TO CROP THE PLOT) (this actually works better than any built in function I've tried)\n",
    "    #basically, the row and column with the most non zero values should be the center\n",
    "        \n",
    "    winningrow=0\n",
    "    winningcountr=frame_width\n",
    "    for rowpixels in range(0,frame_height):\n",
    "        currentcountr=np.count_nonzero(frame_of_interest_backgroundsubtracted[rowpixels,:]==0)\n",
    "        if currentcountr<winningcountr:\n",
    "            winningcountr=currentcountr\n",
    "            winningrow=rowpixels\n",
    "\n",
    "    winningcolumn=0\n",
    "    winningcountc=video_height\n",
    "    for columnpixels in range(0,video_width):\n",
    "        currentcountc=np.count_nonzero(frame_of_interest_backgroundsubtracted[:,columnpixels]==0)\n",
    "        if currentcountc<winningcountc:\n",
    "            winningcountc=currentcountc\n",
    "            winningcolumn=columnpixels\n",
    "\n",
    "    if winningrow<(box_size/2):\n",
    "        winningrow=(int(box_size/2))\n",
    "    if winningrow>(frame_height-box_size/2):\n",
    "        winningrow=int(frame_height-box_size/2-1)\n",
    "    if winningcolumn<(box_size/2):\n",
    "        winningcolumn=(int(box_size/2))\n",
    "    if winningcolumn>(frame_width-box_size/2):\n",
    "        winningcolumn=int(frame_width-box_size/2-1)\n",
    "        \n",
    "        ####################################################################\n",
    "\n",
    "        #THIS IS THE FRAME NUMBER (I WILL COMBINE MANY RUNS SO I'M OUTPUTTING THE MASTER FRAME NUMBER)\n",
    "    fplusd=int(f+grand_frame)\n",
    "    print(fplusd)\n",
    "       \n",
    "\n",
    "        # THIS IS HOW I SHOULD SAVE ARRAYS SO THEY COME OUT AS 192 by 192 FOR IMAGE ANALYSIS (IT'S SMALLER!)\n",
    "    imageio.imwrite('%s/depth_frame_%06d.png' %(experiment,fplusd),frame_of_interest_backgroundsubtracted[winningrow-int(box_size/2):winningrow+int(box_size/2),winningcolumn-int(box_size/2):winningcolumn+int(box_size/2)])\n",
    "\n",
    "    current_frame=current_frame+1\n",
    "        \n",
    "        \n",
    "    "
   ]
  },
  {
   "cell_type": "code",
   "execution_count": null,
   "metadata": {},
   "outputs": [],
   "source": []
  }
 ],
 "metadata": {
  "kernelspec": {
   "display_name": "Python 3",
   "language": "python",
   "name": "python3"
  },
  "language_info": {
   "codemirror_mode": {
    "name": "ipython",
    "version": 3
   },
   "file_extension": ".py",
   "mimetype": "text/x-python",
   "name": "python",
   "nbconvert_exporter": "python",
   "pygments_lexer": "ipython3",
   "version": "3.6.4"
  }
 },
 "nbformat": 4,
 "nbformat_minor": 2
}
