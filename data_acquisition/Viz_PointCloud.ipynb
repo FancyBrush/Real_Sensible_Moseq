{
 "cells": [
  {
   "cell_type": "code",
   "execution_count": 1,
   "metadata": {},
   "outputs": [],
   "source": [
    "#install pointcloud with\n",
    "#conda install numpy\n",
    "#conda install numba\n",
    "#conda install cython\n",
    "#conda install pandas\n",
    "#conda install scipy\n",
    "\n",
    "import pyntcloud"
   ]
  },
  {
   "cell_type": "code",
   "execution_count": 2,
   "metadata": {},
   "outputs": [
    {
     "name": "stdout",
     "output_type": "stream",
     "text": [
      "180731_000001\r\n",
      "180731_000002\r\n",
      "180731_000003\r\n",
      "180801_000001\r\n",
      "180816_000001\r\n",
      "180820_000001\r\n",
      "binary2mp4.ipynb\r\n",
      "canonical-params.json\r\n",
      "CFvsCT.png\r\n",
      "CFvsFS.png\r\n",
      "compression_test.ipynb\r\n",
      "convert_bag_2_mp4.ipynb\r\n",
      "d415_acquisition_color_and_rgb_and_compress.ipynb\r\n",
      "d415_acquisition_color_and_rgb.ipynb\r\n",
      "d415_acquisition_color_and_rgb_ply_and_compress.ipynb\r\n",
      "d415_acquisition_for_leap.ipynb\r\n",
      "d415_acquisition.ipynb\r\n",
      "d415_acquisition_process_depth_and_color.ipynb\r\n",
      "d415_acquisition_process_only.ipynb\r\n",
      "d415_acquisition_save_mp4.ipynb\r\n",
      "d415paramset_1.json\r\n",
      "d415paramset_640480.json\r\n",
      "d415paramset_848480_2.json\r\n",
      "d415paramset_848480.json\r\n",
      "d415_rgb_acquisition_save_mp4.ipynb\r\n",
      "d415_RGB_paramset_640480.json\r\n",
      "dlc_Movie\r\n",
      "FSvsCT.png\r\n",
      "glassbox\r\n",
      "Mini_Batch_Results.png\r\n",
      "nowalls\r\n",
      "plytest\r\n",
      "pointcloud\r\n",
      "sdsb.cpp\r\n",
      "sr300_acquisition_color_and_rgb_and_compress.ipynb\r\n",
      "sr300_acquisition_for_leap.ipynb\r\n",
      "sr300test\r\n",
      "sr300test2\r\n",
      "sr300test3\r\n",
      "Viz_PointCloud.ipynb\r\n"
     ]
    }
   ],
   "source": [
    "!ls"
   ]
  },
  {
   "cell_type": "code",
   "execution_count": 3,
   "metadata": {},
   "outputs": [
    {
     "data": {
      "application/vnd.jupyter.widget-view+json": {
       "model_id": "94740ddbfe434c6dbf7e947c3fd677f5",
       "version_major": 2,
       "version_minor": 0
      },
      "text/plain": [
       "Renderer(camera=PerspectiveCamera(aspect=1.6, fov=90.0, position=(0.015767041593790054, 0.27228369750082493, 3…"
      ]
     },
     "metadata": {},
     "output_type": "display_data"
    },
    {
     "data": {
      "application/vnd.jupyter.widget-view+json": {
       "model_id": "251a307a03b2486ba8e1371fd31078a1",
       "version_major": 2,
       "version_minor": 0
      },
      "text/plain": [
       "HBox(children=(Label(value='Point size:'), FloatSlider(value=0.24246833324432374, max=2.4246833324432373, step…"
      ]
     },
     "metadata": {},
     "output_type": "display_data"
    }
   ],
   "source": [
    "pc = pyntcloud.PyntCloud.from_file(\"pointcloud/000001.ply\")\n",
    "\n",
    "pc.plot()"
   ]
  },
  {
   "cell_type": "code",
   "execution_count": null,
   "metadata": {},
   "outputs": [],
   "source": []
  }
 ],
 "metadata": {
  "kernelspec": {
   "display_name": "Python 3",
   "language": "python",
   "name": "python3"
  },
  "language_info": {
   "codemirror_mode": {
    "name": "ipython",
    "version": 3
   },
   "file_extension": ".py",
   "mimetype": "text/x-python",
   "name": "python",
   "nbconvert_exporter": "python",
   "pygments_lexer": "ipython3",
   "version": "3.6.4"
  }
 },
 "nbformat": 4,
 "nbformat_minor": 2
}
