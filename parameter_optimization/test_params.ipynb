{
 "cells": [
  {
   "cell_type": "code",
   "execution_count": 1,
   "metadata": {},
   "outputs": [],
   "source": [
    "#For this demonstration I use a lab notebook measured to be 12.7mm thick "
   ]
  },
  {
   "cell_type": "code",
   "execution_count": 2,
   "metadata": {},
   "outputs": [],
   "source": [
    "import sys\n",
    "sys.path.append('/usr/local/lib')"
   ]
  },
  {
   "cell_type": "code",
   "execution_count": 3,
   "metadata": {},
   "outputs": [],
   "source": [
    "import matplotlib.pyplot as plt\n",
    "import numpy as np\n",
    "import random\n",
    "import matplotlib.colors as mcol\n",
    "import matplotlib.cm as cm\n",
    "import math\n",
    "import time\n",
    "import pandas as pd\n",
    "import json\n",
    "import pyrealsense2 as rs\n",
    "import cv2\n",
    "from scipy import stats\n",
    "from itertools import cycle\n",
    "cycol = cycle('bgrcmk') #here I'm generating a list of colors I can plot"
   ]
  },
  {
   "cell_type": "code",
   "execution_count": 4,
   "metadata": {},
   "outputs": [
    {
     "name": "stdout",
     "output_type": "stream",
     "text": [
      "Found device that supports advanced mode: Intel RealSense D415\n",
      "Advanced mode is enabled\n"
     ]
    }
   ],
   "source": [
    "# Enabling Advanced Mode\n",
    "\n",
    "DS5_product_ids = [\"0AD1\", \"0AD2\", \"0AD3\", \"0AD4\", \"0AD5\", \"0AF6\", \"0AFE\", \"0AFF\", \"0B00\", \"0B01\", \"0B03\", \"0B07\"]\n",
    "\n",
    "def find_device_that_supports_advanced_mode() :\n",
    "    ctx = rs.context()\n",
    "    ds5_dev = rs.device()\n",
    "    devices = ctx.query_devices();\n",
    "    for dev in devices:\n",
    "        if dev.supports(rs.camera_info.product_id) and str(dev.get_info(rs.camera_info.product_id)) in DS5_product_ids:\n",
    "            if dev.supports(rs.camera_info.name):\n",
    "                print(\"Found device that supports advanced mode:\", dev.get_info(rs.camera_info.name))\n",
    "            return dev\n",
    "    raise Exception(\"No device that supports advanced mode was found\")\n",
    "\n",
    "try:\n",
    "    dev = find_device_that_supports_advanced_mode()\n",
    "    advnc_mode = rs.rs400_advanced_mode(dev)\n",
    "    print(\"Advanced mode is\", \"enabled\" if advnc_mode.is_enabled() else \"disabled\")\n",
    "\n",
    "    # Loop until we successfully enable advanced mode\n",
    "    while not advnc_mode.is_enabled():\n",
    "        print(\"Trying to enable advanced mode...\")\n",
    "        advnc_mode.toggle_advanced_mode(True)\n",
    "        # At this point the device will disconnect and re-connect.\n",
    "        print(\"Sleeping for 5 seconds...\")\n",
    "        time.sleep(5)\n",
    "        # The 'dev' object will become invalid and we need to initialize it again\n",
    "        dev = find_device_that_supports_advanced_mode()\n",
    "        advnc_mode = rs.rs400_advanced_mode(dev)\n",
    "        print(\"Advanced mode is\", \"enabled\" if advnc_mode.is_enabled() else \"disabled\")\n",
    "\n",
    "    \n",
    "except Exception as e:\n",
    "    print(e)\n",
    "pass"
   ]
  },
  {
   "cell_type": "code",
   "execution_count": 5,
   "metadata": {
    "scrolled": true
   },
   "outputs": [
    {
     "name": "stdout",
     "output_type": "stream",
     "text": [
      "{\"param-disableraucolor\": \"0\", \"param-disablesadcolor\": \"0\", \"param-disablesadnormalize\": \"0\", \"param-disablesloleftcolor\": \"0\", \"param-disableslorightcolor\": \"0\", \"param-lambdaad\": \"800\", \"param-lambdacensus\": \"26\", \"param-leftrightthreshold\": \"24\", \"param-maxscorethreshb\": \"2047\", \"param-medianthreshold\": \"500\", \"param-minscorethresha\": \"1\", \"param-neighborthresh\": \"7\", \"param-robbinsmonrodecrement\": \"10\", \"param-robbinsmonroincrement\": \"10\", \"param-secondpeakdelta\": \"325\", \"param-texturecountthresh\": \"0\", \"param-texturedifferencethresh\": \"0\", \"param-raumine\": \"1\", \"param-rauminn\": \"1\", \"param-rauminnssum\": \"3\", \"param-raumins\": \"1\", \"param-rauminw\": \"1\", \"param-rauminwesum\": \"3\", \"param-regionshrinku\": \"3\", \"param-regionshrinkv\": \"1\", \"param-regioncolorthresholdr\": \"0.05\", \"param-regioncolorthresholdg\": \"0.05\", \"param-regioncolorthresholdb\": \"0.05\", \"param-rsmdiffthreshold\": \"4\", \"param-rsmrauslodiffthreshold\": \"1\", \"param-rsmremovethreshold\": \"0.375\", \"param-usersm\": \"1\", \"param-scanlineedgetaub\": \"72\", \"param-scanlineedgetaug\": \"72\", \"param-scanlineedgetaur\": \"72\", \"param-scanlinep1\": \"60\", \"param-scanlinep1onediscon\": \"105\", \"param-scanlinep1twodiscon\": \"70\", \"param-scanlinep2\": \"342\", \"param-scanlinep2onediscon\": \"190\", \"param-scanlinep2twodiscon\": \"130\", \"param-censususize\": \"9\", \"param-censusvsize\": \"9\", \"param-zunits\": \"1000\", \"aux-param-depthclampmin\": \"0\", \"aux-param-depthclampmax\": \"65536\", \"param-disparitymode\": \"0\", \"aux-param-disparityshift\": \"0\", \"aux-param-autoexposure-setpoint\": \"400\", \"aux-param-colorcorrection1\": \"0.462\", \"aux-param-colorcorrection2\": \"0.540\", \"aux-param-colorcorrection3\": \"0.540\", \"aux-param-colorcorrection4\": \"0.208\", \"aux-param-colorcorrection5\": \"-0.332\", \"aux-param-colorcorrection6\": \"-0.213\", \"aux-param-colorcorrection7\": \"-0.213\", \"aux-param-colorcorrection8\": \"0.685\", \"aux-param-colorcorrection9\": \"0.931\", \"aux-param-colorcorrection10\": \"-0.554\", \"aux-param-colorcorrection11\": \"-0.554\", \"aux-param-colorcorrection12\": \"0.046\", \"controls-laserstate\": \"on\", \"controls-laserpower\": \"150\", \"controls-autoexposure-auto\": \"True\", \"controls-autoexposure-manual\": \"33000\", \"controls-depth-gain\": \"16\"}\n"
     ]
    }
   ],
   "source": [
    "# Loading presaved parameters \n",
    "# If I have another set of parameters I'd like to use already in the json format, I can skip the previous three blocks of code\n",
    "#called d415_default.json on my laptop \n",
    "#called d415paramset_1.json on my desktop\n",
    "with open(\"d415paramset_1.json\") as json_data: #Json file to be loaded #notice How I am NOT using D415_params.json that I just created\n",
    "    starting_params = json.load(json_data)\n",
    "    starting_params=str(starting_params).replace(\"'\", '\\\"') #IF YOU DON't DO THIS IT WILL NOT WORK with the librealsense sdk\n",
    "    print(starting_params)"
   ]
  },
  {
   "cell_type": "code",
   "execution_count": 6,
   "metadata": {},
   "outputs": [],
   "source": [
    "#Here I am getting the current values of all of the camera controls\n",
    "current_ae_control=advnc_mode.get_ae_control()\n",
    "current_census=advnc_mode.get_census()\n",
    "current_color_control=advnc_mode.get_color_control()\n",
    "current_color_correction=advnc_mode.get_color_correction()\n",
    "current_depth_control=advnc_mode.get_depth_control()\n",
    "current_depth_table=advnc_mode.get_depth_table()\n",
    "current_hdad=advnc_mode.get_hdad()\n",
    "current_rau_support_vector_control=advnc_mode.get_rau_support_vector_control()\n",
    "current_rau_thresholds_control=advnc_mode.get_rau_thresholds_control()\n",
    "current_rsm=advnc_mode.get_rsm()\n",
    "current_slo_color_thresholds_control=advnc_mode.get_slo_color_thresholds_control()\n",
    "current_slo_penalty_control=advnc_mode.get_slo_penalty_control()"
   ]
  },
  {
   "cell_type": "code",
   "execution_count": 7,
   "metadata": {},
   "outputs": [],
   "source": [
    "#Here are some important parameters values\n",
    "\n",
    "#Decent Defaults\n",
    "paramvector=[400,9,9,0,0,0,0,0,.461914,.540039,.540039,.208008,-.332031,-.212891,-.212891,.68457,.930664,-.553711,-.553711,.458984,500,7,325,2,10,1,2047,0,0,65536,0,1000,0,0,0,800,26,1,1,3,1,1,3,0,0,51,51,51,4,63,0,1,72,72,72,60,105,70]\n",
    "#Min Values\n",
    "minparams=[400,1,1,0,0,0,0,0,-2,-2,-2,-2,-2,-2,-2,-2,-2,-2,-2,-2,0,0,0,0,0,0,0,0,0,0,0,100,0,0,0,800,26,0,0,0,0,0,0,0,0,1,1,1,0,0,0,0,1,1,1,1,1,1]\n",
    "#Max Values\n",
    "maxparams=[400,9,9,1,1,1,1,1,-1.99902,-1.99902,-1.99902,-1.99902,-1.99902,-1.99902,-1.99902,-1.99902,-1.99902,-1.99902,-1.99902,-1.99902,1023,1023,1023,2047,255,1023,4095,1023,4095,65536,65536,10000,1,512,0,800,26,7,3,7,3,7,15,4,4,1022,1022,1022,7.96875,168,1,3.96875,1022,1022,1022,511,511,511]"
   ]
  },
  {
   "cell_type": "code",
   "execution_count": 8,
   "metadata": {},
   "outputs": [],
   "source": [
    "#Recording Loop Initializations \n",
    "\n",
    "#camera specications\n",
    "frame_width=848\n",
    "frame_height=480\n",
    "fps=90\n",
    "\n",
    "#optimization specifications\n",
    "number_of_frames_to_record=1000\n",
    "background_length=500\n",
    "background_chunk=int(number_of_frames_to_record/2) #I want to use 500 frames for recording the background\n",
    "\n",
    "#open a file for apending binary data\n",
    "file = open('pythondepthdata.bin', 'a+b')\n",
    "\n",
    "# Configure depth stream\n",
    "pipeline = rs.pipeline()\n",
    "config = rs.config()\n",
    "config.enable_stream(rs.stream.depth, frame_width, frame_height, rs.format.z16, fps)\n",
    "#config.enable_stream(rs.stream.color, frame_width, frame_height, rs.format.bgr8, fps)\n",
    "advnc_mode.load_json(starting_params) #this is where I start with the Defualt Json\n",
    "\n",
    "# Start streaming\n",
    "cfg = pipeline.start(config)\n",
    "dev = cfg.get_device()\n",
    "depth_sensor = dev.first_depth_sensor()"
   ]
  },
  {
   "cell_type": "code",
   "execution_count": 9,
   "metadata": {
    "scrolled": true
   },
   "outputs": [
    {
     "name": "stdout",
     "output_type": "stream",
     "text": [
      "Background Recorded, Insert calibration object and enter data followed by the name of the object (format: YYMMDD_object)  hi\n",
      "Time Elapsed =  33.07646656036377\n"
     ]
    }
   ],
   "source": [
    "start_of_loop=time.time()\n",
    "saveddepthparams=[]\n",
    "organizeddepthparams=[]\n",
    "saveddepthparams.append(advnc_mode.get_depth_control())\n",
    "organizeddepthparams.append(paramvector[20:29])\n",
    "objectparamindex=0 #used to index the background parameters used in saveddepthparams list\n",
    "tick=0; #keeping track of the number of loops the experiment has gone through \n",
    "\n",
    "#Main Recording Loop \n",
    "\n",
    "with open('pythondepthdata.bin','ab') as binarydata: #While the file called \"pythonedpthdata.bin\" is open for appending binary, \n",
    "    try:\n",
    "        while tick<number_of_frames_to_record: \n",
    "            \n",
    "            # Wait for a coherent pair of frames: depth and color\n",
    "            frames=pipeline.wait_for_frames()\n",
    "            depth_frame = frames.get_depth_frame()\n",
    "        \n",
    "            #First I want to record just the background\n",
    "            #This is also where I prompt the user to insert a calibration object\n",
    "            if tick==background_chunk:\n",
    "                object_id=input(\"Background Recorded, Insert calibration object and enter data followed by the name of the object (format: YYMMDD_object)  \")\n",
    "                            \n",
    "            \n",
    "            # Convert images to numpy arrays\n",
    "            depth_image = np.asanyarray(depth_frame.get_data())\n",
    "            #color_image = np.asanyarray(color_frame.get_data())\n",
    "            depth_image.tofile(binarydata) #save data as binarydata (specified by the with open as line)\n",
    "            \n",
    "                \n",
    "            tick=tick+1 \n",
    "\n",
    "    finally:\n",
    "\n",
    "        # Stop streaming\n",
    "        pipeline.stop()\n",
    "        end_of_loop=time.time() #end timer\n",
    "        print(\"Time Elapsed = \", end_of_loop - start_of_loop)\n",
    "        #serialized_string = advnc_mode.serialize_json() #getting the current parameters as a serialized string\n",
    "        #as_json_object = json.loads(serialized_string) #loading the json object from the serialized string\n",
    "        #json_used_in_experiment = str(as_json_object).replace(\"'\", '\\\"') #converting object into string that can be printed\n",
    "        #print(\"Final Parameters = \", json_used_in_experiment)"
   ]
  },
  {
   "cell_type": "code",
   "execution_count": 10,
   "metadata": {},
   "outputs": [],
   "source": [
    "#This is where I load the raw data and convert it into a numpy array\n",
    "rawframes = np.fromfile('pythondepthdata.bin', dtype=np.uint16) #A highly efficient way of reading binary data with a known data-type, as well as parsing simply formatted text files. Data written using the tofile method can be read using this function.\n",
    "frames = rawframes.reshape(-1, frame_height, frame_width) #.reshape simply restructures data into dimensions of your choosing. -1 means find the number of segments that structures the data into the dimnesions shown afterwards"
   ]
  },
  {
   "cell_type": "code",
   "execution_count": 11,
   "metadata": {},
   "outputs": [
    {
     "name": "stdout",
     "output_type": "stream",
     "text": [
      "The shape of the video is 480 by 848 and it has 1000 frames\n"
     ]
    }
   ],
   "source": [
    "number_of_frames,video_height,video_width=frames.shape[0],frames.shape[1],frames.shape[2];\n",
    "#set number of frames equal to the first element in reshaped.shape\n",
    "#set video height to the second element in reshaped.shape\n",
    "#set video width to the third element in reshaped.shape\n",
    "print('The shape of the video is {0} by {1} and it has {2} frames'.format(video_height,video_width,number_of_frames))\n",
    "#note that the nubmers below are one greater than the actual indices that exist\n",
    "#there is no reshaped[number_of_frames,height,width], the last frame is reshaped[number_of_frames-1,height-1,width-1]"
   ]
  },
  {
   "cell_type": "code",
   "execution_count": 12,
   "metadata": {},
   "outputs": [
    {
     "name": "stdout",
     "output_type": "stream",
     "text": [
      "mean is 100.553590\n",
      "median is 52.000000\n",
      "variance is 27607.531711\n"
     ]
    }
   ],
   "source": [
    "#Testing Analysis For Every Parameter Set\n",
    "\n",
    "mean_results=[]\n",
    "median_results=[]\n",
    "variance_results=[]\n",
    "\n",
    "\n",
    "picked_frame= int(background_chunk+(background_chunk/2))\n",
    "frame_of_interest=frames[picked_frame]\n",
    "#know your background \n",
    "background_low_bounds=int(((picked_frame-(picked_frame%background_length))-background_chunk))\n",
    "background_high_bounds=int(((picked_frame-(picked_frame%background_length))-background_chunk)+(background_length-1))\n",
    "backgroundmean=np.median(frames[background_low_bounds:background_high_bounds], axis=0) #probably safer to do median since the noise is known to mean gaussian\n",
    "backgroundvariance=np.var(frames[background_low_bounds:background_high_bounds], axis=0)\n",
    "\n",
    "#if the difference between the background and the frame is greater than expected, it's probably our object! \n",
    "#note that I arbitrarily pick 5 stdeviations away, it's worth knowing if the noise is actually gaussian\n",
    "backgroundmultiplier=np.abs(frame_of_interest - backgroundmean) - (10*np.sqrt(backgroundvariance)) #if its 5 standard its NOISE\n",
    "#we expect positive values for high differences. make them stay by multiplying by 1\n",
    "backgroundmultiplier[backgroundmultiplier>0]=1\n",
    "#we expect negative values or no change for small differences. probably just noise, get rid of them by multiplying by 0\n",
    "backgroundmultiplier[backgroundmultiplier<=0]=0\n",
    "#apply our expectations to the matrix\n",
    "\n",
    "frame_of_interest_backgroundsubtracted=np.multiply(np.subtract(frame_of_interest,backgroundmean),-1) #subtract the background mean and then multiply result by negative 1 since the camera counts distance away \n",
    "frame_of_interest_backgroundsubtracted=np.multiply(frame_of_interest_backgroundsubtracted,backgroundmultiplier) #pixels that arent significantly different are considered background \n",
    "frame_of_interest_backgroundsubtracted[frame_of_interest_backgroundsubtracted<0]=0 #everything less than 0 IS zero\n",
    "#frame_of_interest_backgroundsubtracted=np.multiply(frame_of_interest_backgroundsubtracted,1) #go from mm to something else by mlitplying by something other than 1\n",
    "frame_of_interest_backgroundsubtracted=np.rint(frame_of_interest_backgroundsubtracted) #makes everything an integer\n",
    "\n",
    "#basic stats\n",
    "object_median=np.median(frame_of_interest_backgroundsubtracted[frame_of_interest_backgroundsubtracted>0])\n",
    "object_mean=np.mean(frame_of_interest_backgroundsubtracted[frame_of_interest_backgroundsubtracted != 0])\n",
    "object_variance=np.var(frame_of_interest_backgroundsubtracted[frame_of_interest_backgroundsubtracted != 0])\n",
    "#objectsigma=np.sqrt(objectvariance)\n",
    "    \n",
    "mean_results.append(object_mean)\n",
    "median_results.append(object_median)\n",
    "variance_results.append(object_variance)\n",
    "\n",
    "#Plotting background-subtracted image\n",
    "#fig=plt.figure(figsize=(10,10))\n",
    "#plt.imshow(frame_of_interest_backgroundsubtracted)\n",
    "#plt.clim(object_median-100,object_median+100)\n",
    "#fig.savefig(object_id + '_%d.png'%i)\n",
    "\n",
    "#same image with jet color bar\n",
    "fig2=plt.figure(figsize=(8,8))\n",
    "plt.colorbar(plt.imshow(frame_of_interest_backgroundsubtracted,cmap='jet'))\n",
    "plt.clim(0,object_median+100) #starting at 0 instead of -100\n",
    "#fig2.savefig(object_id + '_jet_%d.png'%i)\n",
    "\n",
    "#show the stats\n",
    "print('mean is %f' %object_mean)\n",
    "print('median is %f' %object_median)\n",
    "print('variance is %f' %object_variance)\n",
    "    \n",
    "#plt.close(fig)\n",
    "plt.close(fig2)\n",
    "    \n"
   ]
  },
  {
   "cell_type": "code",
   "execution_count": 13,
   "metadata": {},
   "outputs": [
    {
     "name": "stdout",
     "output_type": "stream",
     "text": [
      "100.553590285\n",
      "52.0\n",
      "27607.531711\n"
     ]
    },
    {
     "data": {
      "image/png": "[encoded data removed]",
      "text/plain": [
       "<Figure size 432x288 with 1 Axes>"
      ]
     },
     "metadata": {},
     "output_type": "display_data"
    },
    {
     "name": "stdout",
     "output_type": "stream",
     "text": [
      "minusDecrement: 10, deepSeaMedianThreshold: 500, scoreThreshA: 1, scoreThreshB: 2047, textureDifferenceThreshold: 0, textureCountThreshold: 0, deepSeaSecondPeakThreshold: 325, deepSeaNeighborThreshold: 7, lrAgreeThreshold: 24\n"
     ]
    }
   ],
   "source": [
    "#plot histogram of the pixels with least variance\n",
    "minvarindex=variance_results.index(min(variance_results)) #index of min variance image\n",
    "\n",
    "picked_frame=int(((background_length*minvarindex)+background_chunk+(background_length/2))) #Picked frames greater than the background chunk should show image of object,every 100 frames use different parameters\n",
    "frame_of_interest=frames[picked_frame]\n",
    "#know your background \n",
    "background_low_bounds=int(((picked_frame-(picked_frame%background_length))-background_chunk))\n",
    "background_high_bounds=int(((picked_frame-(picked_frame%background_length))-background_chunk)+(background_length-1))\n",
    "backgroundmean=np.median(frames[background_low_bounds:background_high_bounds], axis=0) #probably safer to do median since the noise is known to mean gaussian\n",
    "backgroundvariance=np.var(frames[background_low_bounds:background_high_bounds], axis=0)\n",
    "\n",
    "#if the difference between the background and the frame is greater than expected, it's probably our object! \n",
    "#note that I arbitrarily pick 5 stdeviations away, it's worth knowing if the noise is actually gaussian\n",
    "backgroundmultiplier=np.abs(frame_of_interest - backgroundmean) - (10*np.sqrt(backgroundvariance)) #if its 5 standard its NOISE\n",
    "#we expect positive values for high differences. make them stay by multiplying by 1\n",
    "backgroundmultiplier[backgroundmultiplier>0]=1\n",
    "#we expect negative values or no change for small differences. probably just noise, get rid of them by multiplying by 0\n",
    "backgroundmultiplier[backgroundmultiplier<=0]=0\n",
    "#apply our expectations to the matrix\n",
    "\n",
    "frame_of_interest_backgroundsubtracted=np.multiply(np.subtract(frame_of_interest,backgroundmean),-1) #subtract the background mean and then multiply result by negative 1 since the camera counts distance away \n",
    "frame_of_interest_backgroundsubtracted=np.multiply(frame_of_interest_backgroundsubtracted,backgroundmultiplier) #pixels that arent significantly different are considered background \n",
    "frame_of_interest_backgroundsubtracted[frame_of_interest_backgroundsubtracted<0]=0 #everything less than 0 IS zero\n",
    "#frame_of_interest_backgroundsubtracted=np.multiply(frame_of_interest_backgroundsubtracted,1) #go from mm to something else by mlitplying by something other than 1\n",
    "frame_of_interest_backgroundsubtracted=np.rint(frame_of_interest_backgroundsubtracted) #makes everything an integer\n",
    "\n",
    "#basic stats\n",
    "object_median=np.median(frame_of_interest_backgroundsubtracted[frame_of_interest_backgroundsubtracted>0])\n",
    "object_mean=np.mean(frame_of_interest_backgroundsubtracted[frame_of_interest_backgroundsubtracted != 0])\n",
    "object_variance=np.var(frame_of_interest_backgroundsubtracted[frame_of_interest_backgroundsubtracted != 0])\n",
    "print(object_mean)\n",
    "print(object_median)\n",
    "print(object_variance)\n",
    "plt.hist(frame_of_interest_backgroundsubtracted[frame_of_interest_backgroundsubtracted != 0],bins=range(1,100))\n",
    "plt.show()\n",
    "print(saveddepthparams[int((background_low_bounds/background_length))]) #print the depth parameters that led to this histogram"
   ]
  },
  {
   "cell_type": "code",
   "execution_count": 14,
   "metadata": {},
   "outputs": [
    {
     "data": {
      "image/png": "[encoded data removed]",
      "text/plain": [
       "<Figure size 576x576 with 2 Axes>"
      ]
     },
     "metadata": {},
     "output_type": "display_data"
    }
   ],
   "source": [
    "plt.figure(figsize=(8,8))\n",
    "plt.colorbar(plt.imshow(frame_of_interest_backgroundsubtracted,cmap='jet'))\n",
    "plt.clim(0,object_median+100) #starting at 0 instead of -100"
   ]
  },
  {
   "cell_type": "code",
   "execution_count": 15,
   "metadata": {},
   "outputs": [],
   "source": [
    "!rm pythondepthdata.bin"
   ]
  }
 ],
 "metadata": {
  "kernelspec": {
   "display_name": "Python 3",
   "language": "python",
   "name": "python3"
  },
  "language_info": {
   "codemirror_mode": {
    "name": "ipython",
    "version": 3
   },
   "file_extension": ".py",
   "mimetype": "text/x-python",
   "name": "python",
   "nbconvert_exporter": "python",
   "pygments_lexer": "ipython3",
   "version": "3.6.4"
  }
 },
 "nbformat": 4,
 "nbformat_minor": 2
}
