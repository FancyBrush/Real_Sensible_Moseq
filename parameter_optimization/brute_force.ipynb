{
 "cells": [
  {
   "cell_type": "code",
   "execution_count": 1,
   "metadata": {},
   "outputs": [],
   "source": [
    "#For this demonstration I use a lab notebook measured to be 12.7mm thick "
   ]
  },
  {
   "cell_type": "code",
   "execution_count": 2,
   "metadata": {},
   "outputs": [],
   "source": [
    "import sys\n",
    "sys.path.append('/usr/local/lib')"
   ]
  },
  {
   "cell_type": "code",
   "execution_count": 3,
   "metadata": {},
   "outputs": [],
   "source": [
    "import matplotlib.pyplot as plt\n",
    "import numpy as np\n",
    "import random\n",
    "import matplotlib.colors as mcol\n",
    "import matplotlib.cm as cm\n",
    "import math\n",
    "import time\n",
    "import pandas as pd\n",
    "import json\n",
    "import pyrealsense2 as rs\n",
    "import cv2\n",
    "from scipy import stats\n",
    "from itertools import cycle\n",
    "cycol = cycle('bgrcmk') #here I'm generating a list of colors I can plot"
   ]
  },
  {
   "cell_type": "code",
   "execution_count": 4,
   "metadata": {},
   "outputs": [
    {
     "name": "stdout",
     "output_type": "stream",
     "text": [
      "Found device that supports advanced mode: Intel RealSense D415\n",
      "Advanced mode is enabled\n"
     ]
    }
   ],
   "source": [
    "# Enabling Advanced Mode\n",
    "\n",
    "DS5_product_ids = [\"0AD1\", \"0AD2\", \"0AD3\", \"0AD4\", \"0AD5\", \"0AF6\", \"0AFE\", \"0AFF\", \"0B00\", \"0B01\", \"0B03\", \"0B07\"]\n",
    "\n",
    "def find_device_that_supports_advanced_mode() :\n",
    "    ctx = rs.context()\n",
    "    ds5_dev = rs.device()\n",
    "    devices = ctx.query_devices();\n",
    "    for dev in devices:\n",
    "        if dev.supports(rs.camera_info.product_id) and str(dev.get_info(rs.camera_info.product_id)) in DS5_product_ids:\n",
    "            if dev.supports(rs.camera_info.name):\n",
    "                print(\"Found device that supports advanced mode:\", dev.get_info(rs.camera_info.name))\n",
    "            return dev\n",
    "    raise Exception(\"No device that supports advanced mode was found\")\n",
    "\n",
    "try:\n",
    "    dev = find_device_that_supports_advanced_mode()\n",
    "    advnc_mode = rs.rs400_advanced_mode(dev)\n",
    "    print(\"Advanced mode is\", \"enabled\" if advnc_mode.is_enabled() else \"disabled\")\n",
    "\n",
    "    # Loop until we successfully enable advanced mode\n",
    "    while not advnc_mode.is_enabled():\n",
    "        print(\"Trying to enable advanced mode...\")\n",
    "        advnc_mode.toggle_advanced_mode(True)\n",
    "        # At this point the device will disconnect and re-connect.\n",
    "        print(\"Sleeping for 5 seconds...\")\n",
    "        time.sleep(5)\n",
    "        # The 'dev' object will become invalid and we need to initialize it again\n",
    "        dev = find_device_that_supports_advanced_mode()\n",
    "        advnc_mode = rs.rs400_advanced_mode(dev)\n",
    "        print(\"Advanced mode is\", \"enabled\" if advnc_mode.is_enabled() else \"disabled\")\n",
    "\n",
    "    \n",
    "except Exception as e:\n",
    "    print(e)\n",
    "pass"
   ]
  },
  {
   "cell_type": "code",
   "execution_count": 5,
   "metadata": {},
   "outputs": [
    {
     "name": "stdout",
     "output_type": "stream",
     "text": [
      "{\"param-disableraucolor\": \"0\", \"param-disablesadcolor\": \"0\", \"param-disablesadnormalize\": \"0\", \"param-disablesloleftcolor\": \"0\", \"param-disableslorightcolor\": \"0\", \"param-lambdaad\": \"800\", \"param-lambdacensus\": \"26\", \"param-leftrightthreshold\": \"24\", \"param-maxscorethreshb\": \"2047\", \"param-medianthreshold\": \"500\", \"param-minscorethresha\": \"1\", \"param-neighborthresh\": \"7\", \"param-robbinsmonrodecrement\": \"10\", \"param-robbinsmonroincrement\": \"10\", \"param-secondpeakdelta\": \"325\", \"param-texturecountthresh\": \"0\", \"param-texturedifferencethresh\": \"0\", \"param-raumine\": \"1\", \"param-rauminn\": \"1\", \"param-rauminnssum\": \"3\", \"param-raumins\": \"1\", \"param-rauminw\": \"1\", \"param-rauminwesum\": \"3\", \"param-regionshrinku\": \"3\", \"param-regionshrinkv\": \"1\", \"param-regioncolorthresholdr\": \"0.05\", \"param-regioncolorthresholdg\": \"0.05\", \"param-regioncolorthresholdb\": \"0.05\", \"param-rsmdiffthreshold\": \"4\", \"param-rsmrauslodiffthreshold\": \"1\", \"param-rsmremovethreshold\": \"0.375\", \"param-usersm\": \"1\", \"param-scanlineedgetaub\": \"72\", \"param-scanlineedgetaug\": \"72\", \"param-scanlineedgetaur\": \"72\", \"param-scanlinep1\": \"60\", \"param-scanlinep1onediscon\": \"105\", \"param-scanlinep1twodiscon\": \"70\", \"param-scanlinep2\": \"342\", \"param-scanlinep2onediscon\": \"190\", \"param-scanlinep2twodiscon\": \"130\", \"param-censususize\": \"9\", \"param-censusvsize\": \"9\", \"param-zunits\": \"1000\", \"aux-param-depthclampmin\": \"0\", \"aux-param-depthclampmax\": \"65536\", \"param-disparitymode\": \"0\", \"aux-param-disparityshift\": \"0\", \"aux-param-autoexposure-setpoint\": \"400\", \"aux-param-colorcorrection1\": \"0.462\", \"aux-param-colorcorrection2\": \"0.540\", \"aux-param-colorcorrection3\": \"0.540\", \"aux-param-colorcorrection4\": \"0.208\", \"aux-param-colorcorrection5\": \"-0.332\", \"aux-param-colorcorrection6\": \"-0.213\", \"aux-param-colorcorrection7\": \"-0.213\", \"aux-param-colorcorrection8\": \"0.685\", \"aux-param-colorcorrection9\": \"0.931\", \"aux-param-colorcorrection10\": \"-0.554\", \"aux-param-colorcorrection11\": \"-0.554\", \"aux-param-colorcorrection12\": \"0.046\", \"controls-laserstate\": \"on\", \"controls-laserpower\": \"150\", \"controls-autoexposure-auto\": \"True\", \"controls-autoexposure-manual\": \"33000\", \"controls-depth-gain\": \"16\"}\n"
     ]
    }
   ],
   "source": [
    "# Loading presaved parameters \n",
    "# If I have another set of parameters I'd like to use already in the json format, I can skip the previous three blocks of code\n",
    "#called d415_default.json on my laptop \n",
    "#called d415paramset_1.json on my desktop\n",
    "with open(\"d415paramset_1.json\") as json_data: #Json file to be loaded #notice How I am NOT using D415_params.json that I just created\n",
    "    starting_params = json.load(json_data)\n",
    "    starting_params=str(starting_params).replace(\"'\", '\\\"') #IF YOU DON't DO THIS IT WILL NOT WORK with the librealsense sdk\n",
    "    print(starting_params)"
   ]
  },
  {
   "cell_type": "code",
   "execution_count": 6,
   "metadata": {},
   "outputs": [],
   "source": [
    "#Here I am getting the current values of all of the camera controls\n",
    "current_ae_control=advnc_mode.get_ae_control()\n",
    "current_census=advnc_mode.get_census()\n",
    "current_color_control=advnc_mode.get_color_control()\n",
    "current_color_correction=advnc_mode.get_color_correction()\n",
    "current_depth_control=advnc_mode.get_depth_control()\n",
    "current_depth_table=advnc_mode.get_depth_table()\n",
    "current_hdad=advnc_mode.get_hdad()\n",
    "current_rau_support_vector_control=advnc_mode.get_rau_support_vector_control()\n",
    "current_rau_thresholds_control=advnc_mode.get_rau_thresholds_control()\n",
    "current_rsm=advnc_mode.get_rsm()\n",
    "current_slo_color_thresholds_control=advnc_mode.get_slo_color_thresholds_control()\n",
    "current_slo_penalty_control=advnc_mode.get_slo_penalty_control()"
   ]
  },
  {
   "cell_type": "code",
   "execution_count": 7,
   "metadata": {},
   "outputs": [],
   "source": [
    "#Here are some important parameters values\n",
    "\n",
    "#Decent Defaults\n",
    "paramvector=[400,9,9,0,0,0,0,0,.461914,.540039,.540039,.208008,-.332031,-.212891,-.212891,.68457,.930664,-.553711,-.553711,.458984,500,7,325,2,10,1,2047,0,0,65536,0,1000,0,0,0,800,26,1,1,3,1,1,3,0,0,51,51,51,4,63,0,1,72,72,72,60,105,70]\n",
    "#Min Values\n",
    "minparams=[400,1,1,0,0,0,0,0,-2,-2,-2,-2,-2,-2,-2,-2,-2,-2,-2,-2,0,0,0,0,0,0,0,0,0,0,0,100,0,0,0,800,26,0,0,0,0,0,0,0,0,1,1,1,0,0,0,0,1,1,1,1,1,1]\n",
    "#Max Values\n",
    "maxparams=[400,9,9,1,1,1,1,1,-1.99902,-1.99902,-1.99902,-1.99902,-1.99902,-1.99902,-1.99902,-1.99902,-1.99902,-1.99902,-1.99902,-1.99902,1023,1023,1023,2047,255,1023,4095,1023,4095,65536,65536,10000,1,512,0,800,26,7,3,7,3,7,15,4,4,1022,1022,1022,7.96875,168,1,3.96875,1022,1022,1022,511,511,511]"
   ]
  },
  {
   "cell_type": "code",
   "execution_count": 8,
   "metadata": {},
   "outputs": [],
   "source": [
    "#I can set the value of any of the parametes by first changing a value within the advnc_mode.get object\n",
    "current_ae_control.meanIntensitySetPoint=paramvector[0]\n",
    "\n",
    "current_census.uDiameter=paramvector[1]\n",
    "current_census.vDiameter=paramvector[2]\n",
    "\n",
    "current_color_control.disableRAUColor=paramvector[3]\n",
    "current_color_control.disableSADColor=paramvector[4]\n",
    "current_color_control.disableSADNormalize=paramvector[5]\n",
    "current_color_control.disableSLOLeftColor=paramvector[6]\n",
    "current_color_control.disableSLORightColor=paramvector[7]\n",
    "\n",
    "current_color_correction.colorCorrection1=paramvector[8]\n",
    "current_color_correction.colorCorrection2=paramvector[9]\n",
    "current_color_correction.colorCorrection3=paramvector[10]\n",
    "current_color_correction.colorCorrection4=paramvector[11]\n",
    "current_color_correction.colorCorrection5=paramvector[12]\n",
    "current_color_correction.colorCorrection6=paramvector[13]\n",
    "current_color_correction.colorCorrection7=paramvector[14]\n",
    "current_color_correction.colorCorrection8=paramvector[15]\n",
    "current_color_correction.colorCorrection9=paramvector[16]\n",
    "current_color_correction.colorCorrection10=paramvector[17]\n",
    "current_color_correction.colorCorrection11=paramvector[18]\n",
    "current_color_correction.colorCorrection12=paramvector[19]\n",
    "\n",
    "current_depth_control.deepSeaMedianThreshold=paramvector[20]\n",
    "current_depth_control.deepSeaNeighborThreshold=paramvector[21]\n",
    "current_depth_control.deepSeaSecondPeakThreshold=paramvector[22]\n",
    "current_depth_control.lrAgreeThreshold=paramvector[23]\n",
    "current_depth_control.minusDecrement=paramvector[24]\n",
    "#current_depth_control.plusIncrement\n",
    "current_depth_control.scoreThreshA=paramvector[25]\n",
    "current_depth_control.scoreThreshB=paramvector[26]\n",
    "current_depth_control.textureCountThreshold=paramvector[27]\n",
    "current_depth_control.textureDifferenceThreshold=paramvector[28]\n",
    "\n",
    "current_depth_table.depthClampMax=paramvector[29]\n",
    "current_depth_table.depthClampMin=paramvector[30]\n",
    "current_depth_table.depthUnits=paramvector[31]\n",
    "current_depth_table.disparityMode=paramvector[32]\n",
    "current_depth_table.disparityShift=paramvector[33]\n",
    "\n",
    "current_hdad.ignoreSAD=paramvector[34]\n",
    "current_hdad.lambdaAD=paramvector[35]\n",
    "current_hdad.lambdaCensus=paramvector[36]\n",
    "\n",
    "current_rau_support_vector_control.minEast=paramvector[37]\n",
    "current_rau_support_vector_control.minNorth=paramvector[38]\n",
    "current_rau_support_vector_control.minNSsum=paramvector[39]\n",
    "current_rau_support_vector_control.minSouth=paramvector[40]\n",
    "current_rau_support_vector_control.minWest=paramvector[41]\n",
    "current_rau_support_vector_control.minWEsum=paramvector[42]\n",
    "current_rau_support_vector_control.uShrink=paramvector[43]\n",
    "current_rau_support_vector_control.vShrink=paramvector[44]\n",
    "\n",
    "current_rau_thresholds_control.rauDiffThresholdBlue=paramvector[45]\n",
    "current_rau_thresholds_control.rauDiffThresholdGreen=paramvector[46]\n",
    "current_rau_thresholds_control.rauDiffThresholdRed=paramvector[47]\n",
    "\n",
    "current_rsm.diffThresh=paramvector[48]\n",
    "current_rsm.removeThresh=paramvector[49]\n",
    "current_rsm.rsmBypass=paramvector[50]\n",
    "current_rsm.sloRauDiffThresh=paramvector[51]\n",
    "\n",
    "current_slo_color_thresholds_control.diffThresholdBlue=paramvector[52]\n",
    "current_slo_color_thresholds_control.diffThresholdGreen=paramvector[53]\n",
    "current_slo_color_thresholds_control.diffThresholdRed=paramvector[54]\n",
    "\n",
    "current_slo_penalty_control.sloK1Penalty=paramvector[55]\n",
    "current_slo_penalty_control.sloK1PenaltyMod1=paramvector[56]\n",
    "current_slo_penalty_control.sloK1PenaltyMod2=paramvector[57]\n"
   ]
  },
  {
   "cell_type": "code",
   "execution_count": 9,
   "metadata": {},
   "outputs": [
    {
     "name": "stdout",
     "output_type": "stream",
     "text": [
      "[500, 7, 325, 2, 10, 1, 2047, 0, 0]\n",
      "[0, 0, 0, 0, 0, 0, 0, 0, 0]\n",
      "[1023, 1023, 1023, 2047, 255, 1023, 4095, 1023, 4095]\n"
     ]
    }
   ],
   "source": [
    "#depth specific parameters\n",
    "print(paramvector[20:29])\n",
    "print(minparams[20:29])\n",
    "print(maxparams[20:29])"
   ]
  },
  {
   "cell_type": "code",
   "execution_count": 10,
   "metadata": {},
   "outputs": [],
   "source": [
    "#constraining the parameter search around the default values yields greater percentage (several maginitudes) of reasonable images\n",
    "def randomize_depth_control():\n",
    "    set=[random.randint(450,550),random.randint(0,20),random.randint(300,350),random.randint(10,50),random.randint(0,20),random.randint(0,5),random.randint(1500,2500),random.randint(0,5),random.randint(0,5)]\n",
    "    \n",
    "    current_depth_control.deepSeaMedianThreshold=set[0]\n",
    "    current_depth_control.deepSeaNeighborThreshold=set[1]\n",
    "    current_depth_control.deepSeaSecondPeakThreshold=set[2]\n",
    "    current_depth_control.lrAgreeThreshold=set[3]\n",
    "    current_depth_control.minusDecrement=set[4]\n",
    "    current_depth_control.scoreThreshA=set[5]\n",
    "    current_depth_control.scoreThreshB=set[6]\n",
    "    current_depth_control.textureCountThreshold=set[7]\n",
    "    current_depth_control.textureDifferenceThreshold=set[8]\n",
    "    advnc_mode.set_depth_control(current_depth_control)\n",
    "    return set"
   ]
  },
  {
   "cell_type": "code",
   "execution_count": 11,
   "metadata": {},
   "outputs": [],
   "source": [
    "# Function for Saving Parameters into a JSON file\n",
    "def writeD415Json(path,filename,values):\n",
    "    filepathname= './' + path + filename + '.json'\n",
    "    parameters={}\n",
    "    parameters[\"aux-param-autoexposure-setpoint\"]=str(values[0])\n",
    "    parameters[\"aux-param-colorcorrection1\"]=str(values[1])\n",
    "    parameters[\"aux-param-colorcorrection10\"]=str(values[2])\n",
    "    parameters[\"aux-param-colorcorrection11\"]=str(values[3])\n",
    "    parameters[\"aux-param-colorcorrection12\"]=str(values[4]) \n",
    "    parameters[\"aux-param-colorcorrection2\"]=str(values[5])\n",
    "    parameters[\"aux-param-colorcorrection3\"]=str(values[6])\n",
    "    parameters[\"aux-param-colorcorrection4\"]=str(values[7]) \n",
    "    parameters[\"aux-param-colorcorrection5\"]=str(values[8])\n",
    "    parameters[\"aux-param-colorcorrection6\"]=str(values[9])\n",
    "    parameters[\"aux-param-colorcorrection7\"]=str(values[10])\n",
    "    parameters[\"aux-param-colorcorrection8\"]=str(values[11])\n",
    "    parameters[\"aux-param-colorcorrection9\"]=str(values[12])\n",
    "    parameters[\"aux-param-depthclampmax\"]=str(values[13])\n",
    "    parameters[\"aux-param-depthclampmin\"]=str(values[14])\n",
    "    parameters[\"aux-param-disparityshift\"]=str(values[15])\n",
    "    parameters[\"controls-autoexposure-auto\"]=str(values[16])\n",
    "    parameters[\"controls-autoexposure-manual\"]=str(values[17])\n",
    "    parameters[\"controls-color-autoexposure-auto\"]=str(values[18])\n",
    "    parameters[\"controls-color-autoexposure-manual\"]=str(values[19])\n",
    "    parameters[\"controls-color-backlight-compensation\"]=str(values[20])\n",
    "    parameters[\"controls-color-brightness\"]=str(values[21])\n",
    "    parameters[\"controls-color-contrast\"]=str(values[22])\n",
    "    parameters[\"controls-color-gain\"]=str(values[23])\n",
    "    parameters[\"controls-color-gamma\"]=str(values[24])\n",
    "    parameters[\"controls-color-hue\"]=str(values[25])\n",
    "    parameters[\"controls-color-power-line-frequency\"]=str(values[26])\n",
    "    parameters[\"controls-color-saturation\"]=str(values[27])\n",
    "    parameters[\"controls-color-sharpness\"]=str(values[28])\n",
    "    parameters[\"controls-color-white-balance-auto\"]=str(values[29])\n",
    "    parameters[\"controls-color-white-balance-manual\"]=str(values[30])\n",
    "    parameters[\"controls-depth-gain\"]=str(values[31])\n",
    "    parameters[\"controls-depth-white-balance-auto\"]=str(values[32])\n",
    "    parameters[\"controls-laserpower\"]=str(values[33])\n",
    "    parameters[\"controls-laserstate\"]=str(values[34])\n",
    "    parameters[\"ignoreSAD\"]=str(values[35])\n",
    "    parameters[\"param-autoexposure-setpoint\"]=str(values[36])\n",
    "    parameters[\"param-censusenablereg-udiameter\"]=str(values[37])\n",
    "    parameters[\"param-censusenablereg-vdiameter\"]=str(values[38])\n",
    "    parameters[\"param-censususize\"]=str(values[39])\n",
    "    parameters[\"param-censusvsize\"]=str(values[40])\n",
    "    parameters[\"param-depthclampmax\"]=str(values[41]) \n",
    "    parameters[\"param-depthclampmin\"]=str(values[42]) \n",
    "    parameters[\"param-depthunits\"]=str(values[43])\n",
    "    parameters[\"param-disableraucolor\"]=str(values[44])\n",
    "    parameters[\"param-disablesadcolor\"]=str(values[45])\n",
    "    parameters[\"param-disablesadnormalize\"]=str(values[46])\n",
    "    parameters[\"param-disablesloleftcolor\"]=str(values[47])\n",
    "    parameters[\"param-disableslorightcolor\"]=str(values[48]) \n",
    "    parameters[\"param-disparitymode\"]=str(values[49])\n",
    "    parameters[\"param-disparityshift\"]=str(values[50])\n",
    "    parameters[\"param-lambdaad\"]=str(values[51])\n",
    "    parameters[\"param-lambdacensus\"]=str(values[52])\n",
    "    parameters[\"param-leftrightthreshold\"]=str(values[53]) \n",
    "    parameters[\"param-maxscorethreshb\"]=str(values[54])\n",
    "    parameters[\"param-medianthreshold\"]=str(values[55])\n",
    "    parameters[\"param-minscorethresha\"]=str(values[56])\n",
    "    parameters[\"param-neighborthresh\"]=str(values[57])\n",
    "    parameters[\"param-raumine\"]=str(values[58])\n",
    "    parameters[\"param-rauminn\"]=str(values[59])\n",
    "    parameters[\"param-rauminnssum\"]=str(values[60])\n",
    "    parameters[\"param-raumins\"]=str(values[61])\n",
    "    parameters[\"param-rauminw\"]=str(values[62])\n",
    "    parameters[\"param-rauminwesum\"]=str(values[63])\n",
    "    parameters[\"param-regioncolorthresholdb\"]=str(values[64])\n",
    "    parameters[\"param-regioncolorthresholdg\"]=str(values[65])\n",
    "    parameters[\"param-regioncolorthresholdr\"]=str(values[66]) \n",
    "    parameters[\"param-regionshrinku\"]=str(values[67])\n",
    "    parameters[\"param-regionshrinkv\"]=str(values[68])\n",
    "    parameters[\"param-robbinsmonrodecrement\"]=str(values[69])\n",
    "    parameters[\"param-robbinsmonroincrement\"]=str(values[70])\n",
    "    parameters[\"param-rsmdiffthreshold\"]=str(values[71])\n",
    "    parameters[\"param-rsmrauslodiffthreshold\"]=str(values[72]) \n",
    "    parameters[\"param-rsmremovethreshold\"]=str(values[73]) \n",
    "    parameters[\"param-scanlineedgetaub\"]=str(values[74])\n",
    "    parameters[\"param-scanlineedgetaug\"]=str(values[75]) \n",
    "    parameters[\"param-scanlineedgetaur\"]=str(values[76]) \n",
    "    parameters[\"param-scanlinep1\"]=str(values[77]) \n",
    "    parameters[\"param-scanlinep1onediscon\"]=str(values[78]) \n",
    "    parameters[\"param-scanlinep1twodiscon\"]=str(values[79])\n",
    "    parameters[\"param-scanlinep2\"]=str(values[80])\n",
    "    parameters[\"param-scanlinep2onediscon\"]=str(values[81])\n",
    "    parameters[\"param-scanlinep2twodiscon\"]=str(values[82])\n",
    "    parameters[\"param-secondpeakdelta\"]=str(values[83])\n",
    "    parameters[\"param-texturecountthresh\"]=str(values[84])\n",
    "    parameters[\"param-texturedifferencethresh\"]=str(values[85])\n",
    "    parameters[\"param-usersm\"]=str(values[86]) \n",
    "    parameters[\"param-zunits\"]=str(values[87])\n",
    "    \n",
    "    with open(filepathname, 'w') as fp: #open file to write parameters\n",
    "        json.dump(parameters, fp) # dump parameters into json\n"
   ]
  },
  {
   "cell_type": "code",
   "execution_count": 12,
   "metadata": {},
   "outputs": [],
   "source": [
    "#values of some preset parameters.\n",
    "values= [400, 0.461914, -0.553711, -0.553711, 0.0458984, 0.540039, 0.540039, 0.208008, -0.332031, -0.212891, -0.212891, 0.68457, 0.930664, 65536, 624, 53, \"True\", 33000, \"True\", 166, 0, 0 , 50, 64, 300, 0, 3, 64, 50, \"True\", 4600, 16, \"False\", 150, \"on\", 0, 400, 9, 9, 9, 9, 65536, 624, 901, 0, 0, 0, 0, 0, 0, 53, 800, 26, 24, 2047, 500, 1, 7, 1, 1, 3, 1, 1, 3, 0.0499022, 0.0499022, 0.0499022, 3, 1, 10, 10, 4, 1, 0.375, 72, 72, 72, 60, 105, 70, 342, 190, 130, 325, 0, 0, 1, 901] "
   ]
  },
  {
   "cell_type": "code",
   "execution_count": 13,
   "metadata": {},
   "outputs": [],
   "source": [
    "# Create file named D415_params.json and write the parameter values into that json file (Saved in the current path) \n",
    "filename='D415_params' \n",
    "path='./'\n",
    "writeD415Json(path,filename,values)"
   ]
  },
  {
   "cell_type": "code",
   "execution_count": 14,
   "metadata": {},
   "outputs": [],
   "source": [
    "#Recording Loop Initializations \n",
    "\n",
    "#camera specications\n",
    "frame_width=848\n",
    "frame_height=480\n",
    "fps=90\n",
    "\n",
    "#optimization specifications\n",
    "number_of_frames_to_record=12000\n",
    "background_length=50\n",
    "background_chunk=int(number_of_frames_to_record/2) #I want to use 500 frames for recording the background\n",
    "\n",
    "#open a file for apending binary data\n",
    "file = open('pythondepthdata.bin', 'a+b')\n",
    "\n",
    "# Configure depth stream\n",
    "pipeline = rs.pipeline()\n",
    "config = rs.config()\n",
    "config.enable_stream(rs.stream.depth, frame_width, frame_height, rs.format.z16, fps)\n",
    "#config.enable_stream(rs.stream.color, frame_width, frame_height, rs.format.bgr8, fps)\n",
    "advnc_mode.load_json(starting_params) #this is where I start with the Defualt Json\n",
    "\n",
    "# Start streaming\n",
    "cfg = pipeline.start(config)\n",
    "dev = cfg.get_device()\n",
    "depth_sensor = dev.first_depth_sensor()"
   ]
  },
  {
   "cell_type": "code",
   "execution_count": 15,
   "metadata": {
    "scrolled": true
   },
   "outputs": [
    {
     "name": "stdout",
     "output_type": "stream",
     "text": [
      "randomized background 50\n",
      "randomized background 100\n",
      "randomized background 150\n",
      "randomized background 200\n",
      "randomized background 250\n",
      "randomized background 300\n",
      "randomized background 350\n",
      "randomized background 400\n",
      "randomized background 450\n",
      "randomized background 500\n",
      "randomized background 550\n",
      "randomized background 600\n",
      "randomized background 650\n",
      "randomized background 700\n",
      "randomized background 750\n",
      "randomized background 800\n",
      "randomized background 850\n",
      "randomized background 900\n",
      "randomized background 950\n",
      "randomized background 1000\n",
      "randomized background 1050\n",
      "randomized background 1100\n",
      "randomized background 1150\n",
      "randomized background 1200\n",
      "randomized background 1250\n",
      "randomized background 1300\n",
      "randomized background 1350\n",
      "randomized background 1400\n",
      "randomized background 1450\n",
      "randomized background 1500\n",
      "randomized background 1550\n",
      "randomized background 1600\n",
      "randomized background 1650\n",
      "randomized background 1700\n",
      "randomized background 1750\n",
      "randomized background 1800\n",
      "randomized background 1850\n",
      "randomized background 1900\n",
      "randomized background 1950\n",
      "randomized background 2000\n",
      "randomized background 2050\n",
      "randomized background 2100\n",
      "randomized background 2150\n",
      "randomized background 2200\n",
      "randomized background 2250\n",
      "randomized background 2300\n",
      "randomized background 2350\n",
      "randomized background 2400\n",
      "randomized background 2450\n",
      "randomized background 2500\n",
      "randomized background 2550\n",
      "randomized background 2600\n",
      "randomized background 2650\n",
      "randomized background 2700\n",
      "randomized background 2750\n",
      "randomized background 2800\n",
      "randomized background 2850\n",
      "randomized background 2900\n",
      "randomized background 2950\n",
      "randomized background 3000\n",
      "randomized background 3050\n",
      "randomized background 3100\n",
      "randomized background 3150\n",
      "randomized background 3200\n",
      "randomized background 3250\n",
      "randomized background 3300\n",
      "randomized background 3350\n",
      "randomized background 3400\n",
      "randomized background 3450\n",
      "randomized background 3500\n",
      "randomized background 3550\n",
      "randomized background 3600\n",
      "randomized background 3650\n",
      "randomized background 3700\n",
      "randomized background 3750\n",
      "randomized background 3800\n",
      "randomized background 3850\n",
      "randomized background 3900\n",
      "randomized background 3950\n",
      "randomized background 4000\n",
      "randomized background 4050\n",
      "randomized background 4100\n",
      "randomized background 4150\n",
      "randomized background 4200\n",
      "randomized background 4250\n",
      "randomized background 4300\n",
      "randomized background 4350\n",
      "randomized background 4400\n",
      "randomized background 4450\n",
      "randomized background 4500\n",
      "randomized background 4550\n",
      "randomized background 4600\n",
      "randomized background 4650\n",
      "randomized background 4700\n",
      "randomized background 4750\n",
      "randomized background 4800\n",
      "randomized background 4850\n",
      "randomized background 4900\n",
      "randomized background 4950\n",
      "randomized background 5000\n",
      "randomized background 5050\n",
      "randomized background 5100\n",
      "randomized background 5150\n",
      "randomized background 5200\n",
      "randomized background 5250\n",
      "randomized background 5300\n",
      "randomized background 5350\n",
      "randomized background 5400\n",
      "randomized background 5450\n",
      "randomized background 5500\n",
      "randomized background 5550\n",
      "randomized background 5600\n",
      "randomized background 5650\n",
      "randomized background 5700\n",
      "randomized background 5750\n",
      "randomized background 5800\n",
      "randomized background 5850\n",
      "randomized background 5900\n",
      "randomized background 5950\n",
      "Insert calibration object and enter data followed by the name of the object (format: YYMMDD_object)  realsense_box\n",
      "Changed object recording parameters to that of background-1\n",
      "Changed object recording parameters to that of background-2\n",
      "Changed object recording parameters to that of background-3\n",
      "Changed object recording parameters to that of background-4\n",
      "Changed object recording parameters to that of background-5\n",
      "Changed object recording parameters to that of background-6\n",
      "Changed object recording parameters to that of background-7\n",
      "Changed object recording parameters to that of background-8\n",
      "Changed object recording parameters to that of background-9\n",
      "Changed object recording parameters to that of background-10\n",
      "Changed object recording parameters to that of background-11\n",
      "Changed object recording parameters to that of background-12\n",
      "Changed object recording parameters to that of background-13\n",
      "Changed object recording parameters to that of background-14\n",
      "Changed object recording parameters to that of background-15\n",
      "Changed object recording parameters to that of background-16\n",
      "Changed object recording parameters to that of background-17\n",
      "Changed object recording parameters to that of background-18\n",
      "Changed object recording parameters to that of background-19\n",
      "Changed object recording parameters to that of background-20\n",
      "Changed object recording parameters to that of background-21\n",
      "Changed object recording parameters to that of background-22\n",
      "Changed object recording parameters to that of background-23\n",
      "Changed object recording parameters to that of background-24\n",
      "Changed object recording parameters to that of background-25\n",
      "Changed object recording parameters to that of background-26\n",
      "Changed object recording parameters to that of background-27\n",
      "Changed object recording parameters to that of background-28\n",
      "Changed object recording parameters to that of background-29\n",
      "Changed object recording parameters to that of background-30\n",
      "Changed object recording parameters to that of background-31\n",
      "Changed object recording parameters to that of background-32\n",
      "Changed object recording parameters to that of background-33\n",
      "Changed object recording parameters to that of background-34\n",
      "Changed object recording parameters to that of background-35\n",
      "Changed object recording parameters to that of background-36\n",
      "Changed object recording parameters to that of background-37\n",
      "Changed object recording parameters to that of background-38\n",
      "Changed object recording parameters to that of background-39\n",
      "Changed object recording parameters to that of background-40\n",
      "Changed object recording parameters to that of background-41\n",
      "Changed object recording parameters to that of background-42\n",
      "Changed object recording parameters to that of background-43\n",
      "Changed object recording parameters to that of background-44\n",
      "Changed object recording parameters to that of background-45\n",
      "Changed object recording parameters to that of background-46\n",
      "Changed object recording parameters to that of background-47\n",
      "Changed object recording parameters to that of background-48\n",
      "Changed object recording parameters to that of background-49\n",
      "Changed object recording parameters to that of background-50\n",
      "Changed object recording parameters to that of background-51\n",
      "Changed object recording parameters to that of background-52\n",
      "Changed object recording parameters to that of background-53\n",
      "Changed object recording parameters to that of background-54\n",
      "Changed object recording parameters to that of background-55\n",
      "Changed object recording parameters to that of background-56\n",
      "Changed object recording parameters to that of background-57\n",
      "Changed object recording parameters to that of background-58\n",
      "Changed object recording parameters to that of background-59\n",
      "Changed object recording parameters to that of background-60\n",
      "Changed object recording parameters to that of background-61\n",
      "Changed object recording parameters to that of background-62\n",
      "Changed object recording parameters to that of background-63\n",
      "Changed object recording parameters to that of background-64\n",
      "Changed object recording parameters to that of background-65\n",
      "Changed object recording parameters to that of background-66\n",
      "Changed object recording parameters to that of background-67\n",
      "Changed object recording parameters to that of background-68\n",
      "Changed object recording parameters to that of background-69\n",
      "Changed object recording parameters to that of background-70\n",
      "Changed object recording parameters to that of background-71\n",
      "Changed object recording parameters to that of background-72\n",
      "Changed object recording parameters to that of background-73\n",
      "Changed object recording parameters to that of background-74\n",
      "Changed object recording parameters to that of background-75\n",
      "Changed object recording parameters to that of background-76\n",
      "Changed object recording parameters to that of background-77\n",
      "Changed object recording parameters to that of background-78\n",
      "Changed object recording parameters to that of background-79\n",
      "Changed object recording parameters to that of background-80\n",
      "Changed object recording parameters to that of background-81\n"
     ]
    },
    {
     "name": "stdout",
     "output_type": "stream",
     "text": [
      "Changed object recording parameters to that of background-82\n",
      "Changed object recording parameters to that of background-83\n",
      "Changed object recording parameters to that of background-84\n",
      "Changed object recording parameters to that of background-85\n",
      "Changed object recording parameters to that of background-86\n",
      "Changed object recording parameters to that of background-87\n",
      "Changed object recording parameters to that of background-88\n",
      "Changed object recording parameters to that of background-89\n",
      "Changed object recording parameters to that of background-90\n",
      "Changed object recording parameters to that of background-91\n",
      "Changed object recording parameters to that of background-92\n",
      "Changed object recording parameters to that of background-93\n",
      "Changed object recording parameters to that of background-94\n",
      "Changed object recording parameters to that of background-95\n",
      "Changed object recording parameters to that of background-96\n",
      "Changed object recording parameters to that of background-97\n",
      "Changed object recording parameters to that of background-98\n",
      "Changed object recording parameters to that of background-99\n",
      "Changed object recording parameters to that of background-100\n",
      "Changed object recording parameters to that of background-101\n",
      "Changed object recording parameters to that of background-102\n",
      "Changed object recording parameters to that of background-103\n",
      "Changed object recording parameters to that of background-104\n",
      "Changed object recording parameters to that of background-105\n",
      "Changed object recording parameters to that of background-106\n",
      "Changed object recording parameters to that of background-107\n",
      "Changed object recording parameters to that of background-108\n",
      "Changed object recording parameters to that of background-109\n",
      "Changed object recording parameters to that of background-110\n",
      "Changed object recording parameters to that of background-111\n",
      "Changed object recording parameters to that of background-112\n",
      "Changed object recording parameters to that of background-113\n",
      "Changed object recording parameters to that of background-114\n",
      "Changed object recording parameters to that of background-115\n",
      "Changed object recording parameters to that of background-116\n",
      "Changed object recording parameters to that of background-117\n",
      "Changed object recording parameters to that of background-118\n",
      "Changed object recording parameters to that of background-119\n",
      "Changed object recording parameters to that of background-120\n",
      "Time Elapsed =  177.10847783088684\n"
     ]
    }
   ],
   "source": [
    "start_of_loop=time.time()\n",
    "saveddepthparams=[]\n",
    "organizeddepthparams=[]\n",
    "saveddepthparams.append(advnc_mode.get_depth_control())\n",
    "organizeddepthparams.append(paramvector[20:29])\n",
    "objectparamindex=0 #used to index the background parameters used in saveddepthparams list\n",
    "tick=0; #keeping track of the number of loops the experiment has gone through \n",
    "\n",
    "#Main Recording Loop \n",
    "\n",
    "with open('pythondepthdata.bin','ab') as binarydata: #While the file called \"pythonedpthdata.bin\" is open for appending binary, \n",
    "    try:\n",
    "        while tick<number_of_frames_to_record: \n",
    "            \n",
    "            # Wait for a coherent pair of frames: depth and color\n",
    "            frames=pipeline.wait_for_frames()\n",
    "            depth_frame = frames.get_depth_frame()\n",
    "        \n",
    "            #First I want to record just the background with random params\n",
    "            if (tick != 0) and tick<background_chunk: #avoid division by zero\n",
    "                if tick%background_length==0: #every 100 frames I want to randomize the current depth control\n",
    "                    cps=randomize_depth_control()\n",
    "                    organizeddepthparams.append(cps)\n",
    "                    saveddepthparams.append(advnc_mode.get_depth_control())\n",
    "                    print(\"randomized background \" + str(tick))\n",
    "            \n",
    "            # This is where I prompt the user to insert a calibration object\n",
    "            if tick==background_chunk:\n",
    "                object_id=input(\"Insert calibration object and enter data followed by the name of the object (format: YYMMDD_object)  \")\n",
    "                \n",
    "                \n",
    "            #Next, I want to record an object in the same set of background parameters (that were randomly generated)        \n",
    "            if background_chunk<=tick<=number_of_frames_to_record and tick%background_length==0:\n",
    "                    advnc_mode.set_depth_control(saveddepthparams[objectparamindex])\n",
    "                    saveddepthparams.append(advnc_mode.get_depth_control())\n",
    "                    objectparamindex=objectparamindex+1\n",
    "                    print(\"Changed object recording parameters to that of background-\" + str(objectparamindex))             \n",
    "            \n",
    "            # Convert images to numpy arrays\n",
    "            depth_image = np.asanyarray(depth_frame.get_data())\n",
    "            #color_image = np.asanyarray(color_frame.get_data())\n",
    "            depth_image.tofile(binarydata) #save data as binarydata (specified by the with open as line)\n",
    "            \n",
    "                \n",
    "            tick=tick+1 \n",
    "\n",
    "    finally:\n",
    "\n",
    "        # Stop streaming\n",
    "        pipeline.stop()\n",
    "        end_of_loop=time.time() #end timer\n",
    "        print(\"Time Elapsed = \", end_of_loop - start_of_loop)\n",
    "        #serialized_string = advnc_mode.serialize_json() #getting the current parameters as a serialized string\n",
    "        #as_json_object = json.loads(serialized_string) #loading the json object from the serialized string\n",
    "        #json_used_in_experiment = str(as_json_object).replace(\"'\", '\\\"') #converting object into string that can be printed\n",
    "        #print(\"Final Parameters = \", json_used_in_experiment)"
   ]
  },
  {
   "cell_type": "code",
   "execution_count": 16,
   "metadata": {},
   "outputs": [],
   "source": [
    "#This is where I load the raw data and convert it into a numpy array\n",
    "rawframes = np.fromfile('pythondepthdata.bin', dtype=np.uint16) #A highly efficient way of reading binary data with a known data-type, as well as parsing simply formatted text files. Data written using the tofile method can be read using this function.\n",
    "frames = rawframes.reshape(-1, frame_height, frame_width) #.reshape simply restructures data into dimensions of your choosing. -1 means find the number of segments that structures the data into the dimnesions shown afterwards\n",
    "del rawframes"
   ]
  },
  {
   "cell_type": "code",
   "execution_count": 17,
   "metadata": {},
   "outputs": [
    {
     "name": "stdout",
     "output_type": "stream",
     "text": [
      "The shape of the video is 480 by 848 and it has 12000 frames\n"
     ]
    }
   ],
   "source": [
    "number_of_frames,video_height,video_width=frames.shape[0],frames.shape[1],frames.shape[2];\n",
    "#set number of frames equal to the first element in reshaped.shape\n",
    "#set video height to the second element in reshaped.shape\n",
    "#set video width to the third element in reshaped.shape\n",
    "print('The shape of the video is {0} by {1} and it has {2} frames'.format(video_height,video_width,number_of_frames))\n",
    "#note that the nubmers below are one greater than the actual indices that exist\n",
    "#there is no reshaped[number_of_frames,height,width], the last frame is reshaped[number_of_frames-1,height-1,width-1]"
   ]
  },
  {
   "cell_type": "code",
   "execution_count": 18,
   "metadata": {},
   "outputs": [
    {
     "name": "stdout",
     "output_type": "stream",
     "text": [
      "mean is 97.240806\n",
      "median is 53.000000\n",
      "variance is 26101.020536\n",
      "mean is 100.085008\n",
      "median is 53.000000\n",
      "variance is 27485.410465\n",
      "mean is 92.924138\n",
      "median is 53.000000\n",
      "variance is 23839.005305\n",
      "mean is 98.889046\n",
      "median is 54.000000\n",
      "variance is 26923.302402\n",
      "mean is 94.684725\n",
      "median is 54.000000\n",
      "variance is 24637.499113\n",
      "mean is 92.242964\n",
      "median is 54.000000\n",
      "variance is 23471.549814\n",
      "mean is 94.138440\n",
      "median is 54.000000\n",
      "variance is 24373.653884\n",
      "mean is 98.029368\n",
      "median is 54.000000\n",
      "variance is 26160.526856\n",
      "mean is 95.175010\n",
      "median is 54.000000\n",
      "variance is 24819.962633\n",
      "mean is 99.880018\n",
      "median is 54.000000\n",
      "variance is 27053.645698\n",
      "mean is 92.554106\n",
      "median is 54.000000\n",
      "variance is 23373.511923\n",
      "mean is 93.087467\n",
      "median is 54.000000\n",
      "variance is 23547.466258\n",
      "mean is 91.739144\n",
      "median is 54.000000\n",
      "variance is 22889.148614\n",
      "mean is 90.055592\n",
      "median is 54.000000\n",
      "variance is 22094.120144\n",
      "mean is 95.370135\n",
      "median is 54.000000\n",
      "variance is 24747.927107\n",
      "mean is 104.208207\n",
      "median is 54.000000\n",
      "variance is 29117.073536\n",
      "mean is 125.507933\n",
      "median is 54.000000\n",
      "variance is 39223.676666\n",
      "mean is 87.025899\n",
      "median is 54.000000\n",
      "variance is 20638.533657\n",
      "mean is 96.957373\n",
      "median is 54.000000\n",
      "variance is 25564.238317\n",
      "mean is 90.247809\n",
      "median is 54.000000\n",
      "variance is 22264.911071\n",
      "mean is 95.830211\n",
      "median is 54.000000\n",
      "variance is 25007.754348\n",
      "mean is 97.865869\n",
      "median is 54.000000\n",
      "variance is 26006.901776\n",
      "mean is 97.820692\n",
      "median is 54.000000\n",
      "variance is 26010.920257\n",
      "mean is 93.652958\n",
      "median is 54.000000\n",
      "variance is 23909.040183\n",
      "mean is 106.269583\n",
      "median is 54.000000\n",
      "variance is 30267.271627\n",
      "mean is 91.716412\n",
      "median is 54.000000\n",
      "variance is 23114.695659\n",
      "mean is 92.876158\n",
      "median is 54.000000\n",
      "variance is 23420.892494\n",
      "mean is 93.006675\n",
      "median is 54.000000\n",
      "variance is 23444.918750\n",
      "mean is 96.342024\n",
      "median is 54.000000\n",
      "variance is 25382.580457\n",
      "mean is 93.980864\n",
      "median is 54.000000\n",
      "variance is 24122.152983\n",
      "mean is 91.458633\n",
      "median is 54.000000\n",
      "variance is 22888.392174\n",
      "mean is 92.593621\n",
      "median is 54.000000\n",
      "variance is 23389.657557\n",
      "mean is 95.858345\n",
      "median is 54.000000\n",
      "variance is 25093.541378\n",
      "mean is 112.635416\n",
      "median is 54.000000\n",
      "variance is 33209.323925\n",
      "mean is 93.076028\n",
      "median is 54.000000\n",
      "variance is 23511.816950\n",
      "mean is 101.422060\n",
      "median is 54.000000\n",
      "variance is 27701.463684\n",
      "mean is 108.191392\n",
      "median is 54.000000\n",
      "variance is 31039.705958\n",
      "mean is 90.726695\n",
      "median is 54.000000\n",
      "variance is 22480.912391\n",
      "mean is 108.957529\n",
      "median is 54.000000\n",
      "variance is 31595.273228\n",
      "mean is 89.766910\n",
      "median is 54.000000\n",
      "variance is 21865.091698\n",
      "mean is 95.662007\n",
      "median is 54.000000\n",
      "variance is 24893.332360\n",
      "mean is 109.711581\n",
      "median is 54.000000\n",
      "variance is 31726.395100\n",
      "mean is 96.360146\n",
      "median is 54.000000\n",
      "variance is 25425.639441\n",
      "mean is 90.167857\n",
      "median is 54.000000\n",
      "variance is 22194.207622\n",
      "mean is 109.732264\n",
      "median is 54.000000\n",
      "variance is 31763.230781\n",
      "mean is 95.707068\n",
      "median is 54.000000\n",
      "variance is 24824.339440\n",
      "mean is 91.605887\n",
      "median is 54.000000\n",
      "variance is 22841.557093\n",
      "mean is 93.612355\n",
      "median is 54.000000\n",
      "variance is 23777.182550\n",
      "mean is 93.675364\n",
      "median is 55.000000\n",
      "variance is 23698.332423\n",
      "mean is 95.407453\n",
      "median is 54.000000\n",
      "variance is 24645.023533\n",
      "mean is 122.946854\n",
      "median is 55.000000\n",
      "variance is 37947.603790\n",
      "mean is 96.526759\n",
      "median is 54.000000\n",
      "variance is 25370.369554\n",
      "mean is 95.439969\n",
      "median is 54.000000\n",
      "variance is 24703.654245\n",
      "mean is 98.679876\n",
      "median is 54.000000\n",
      "variance is 26458.223949\n",
      "mean is 96.021403\n",
      "median is 54.000000\n",
      "variance is 25206.821330\n",
      "mean is 101.659375\n",
      "median is 54.000000\n",
      "variance is 27833.715760\n",
      "mean is 100.344750\n",
      "median is 54.000000\n",
      "variance is 27169.159076\n",
      "mean is 95.927366\n",
      "median is 54.000000\n",
      "variance is 24956.220130\n",
      "mean is 95.613200\n",
      "median is 54.000000\n",
      "variance is 24956.110463\n",
      "mean is 95.289400\n",
      "median is 54.000000\n",
      "variance is 24747.339003\n",
      "mean is 96.575288\n",
      "median is 54.000000\n",
      "variance is 25344.096476\n",
      "mean is 92.445645\n",
      "median is 54.000000\n",
      "variance is 23249.086569\n",
      "mean is 98.659491\n",
      "median is 54.000000\n",
      "variance is 26449.571259\n",
      "mean is 94.276430\n",
      "median is 54.000000\n",
      "variance is 24188.820773\n",
      "mean is 97.596448\n",
      "median is 54.000000\n",
      "variance is 25959.320482\n",
      "mean is 92.392422\n",
      "median is 54.000000\n",
      "variance is 23234.777417\n",
      "mean is 91.384232\n",
      "median is 54.000000\n",
      "variance is 22778.506679\n",
      "mean is 86.448066\n",
      "median is 54.000000\n",
      "variance is 20468.330679\n",
      "mean is 102.023652\n",
      "median is 54.000000\n",
      "variance is 28000.415685\n",
      "mean is 94.924491\n",
      "median is 54.000000\n",
      "variance is 24579.805943\n",
      "mean is 90.162025\n",
      "median is 54.000000\n",
      "variance is 22210.910627\n",
      "mean is 92.688068\n",
      "median is 54.000000\n",
      "variance is 23445.150104\n",
      "mean is 94.038580\n",
      "median is 54.000000\n",
      "variance is 24181.952601\n",
      "mean is 120.011549\n",
      "median is 54.000000\n",
      "variance is 36767.985866\n",
      "mean is 101.032082\n",
      "median is 54.000000\n",
      "variance is 27534.863888\n",
      "mean is 110.238955\n",
      "median is 54.000000\n",
      "variance is 32101.493712\n",
      "mean is 128.224307\n",
      "median is 54.000000\n",
      "variance is 40496.446505\n",
      "mean is 90.466086\n",
      "median is 54.000000\n",
      "variance is 22394.078766\n",
      "mean is 92.399356\n",
      "median is 54.000000\n",
      "variance is 23320.456731\n",
      "mean is 90.919309\n",
      "median is 54.000000\n",
      "variance is 22579.265069\n",
      "mean is 131.395564\n",
      "median is 54.000000\n",
      "variance is 41837.855967\n",
      "mean is 103.011932\n",
      "median is 54.000000\n",
      "variance is 28559.776754\n",
      "mean is 94.979339\n",
      "median is 54.000000\n",
      "variance is 24596.318809\n",
      "mean is 101.486506\n",
      "median is 54.000000\n",
      "variance is 27795.111776\n",
      "mean is 100.674832\n",
      "median is 54.000000\n",
      "variance is 27518.116030\n",
      "mean is 98.184747\n",
      "median is 54.000000\n",
      "variance is 26150.673676\n",
      "mean is 101.354283\n",
      "median is 54.000000\n",
      "variance is 27688.948642\n",
      "mean is 91.702656\n",
      "median is 54.000000\n",
      "variance is 22952.323165\n",
      "mean is 93.583609\n",
      "median is 54.000000\n",
      "variance is 23893.969216\n",
      "mean is 97.309387\n",
      "median is 54.000000\n",
      "variance is 25838.952086\n",
      "mean is 95.179954\n",
      "median is 54.000000\n",
      "variance is 24890.762718\n",
      "mean is 92.019361\n",
      "median is 54.000000\n",
      "variance is 23153.814662\n",
      "mean is 117.844659\n",
      "median is 54.000000\n",
      "variance is 35741.295818\n",
      "mean is 93.851675\n",
      "median is 54.000000\n",
      "variance is 24039.062960\n",
      "mean is 93.182983\n",
      "median is 54.000000\n",
      "variance is 23898.531099\n",
      "mean is 90.451542\n",
      "median is 54.000000\n",
      "variance is 22172.865243\n",
      "mean is 89.906218\n",
      "median is 54.000000\n",
      "variance is 22147.059627\n",
      "mean is 93.578876\n",
      "median is 54.000000\n",
      "variance is 24005.243521\n",
      "mean is 91.759682\n",
      "median is 54.000000\n",
      "variance is 22976.751519\n",
      "mean is 112.273999\n",
      "median is 54.000000\n",
      "variance is 33216.364478\n",
      "mean is 88.733433\n",
      "median is 54.000000\n",
      "variance is 21274.950098\n",
      "mean is 95.401211\n",
      "median is 54.000000\n",
      "variance is 24849.187175\n",
      "mean is 95.510424\n",
      "median is 54.000000\n",
      "variance is 24880.483287\n",
      "mean is 95.509420\n",
      "median is 54.000000\n",
      "variance is 25048.129876\n",
      "mean is 97.108245\n",
      "median is 54.000000\n",
      "variance is 25828.078360\n",
      "mean is 97.668834\n",
      "median is 54.000000\n",
      "variance is 26043.732180\n",
      "mean is 92.257918\n",
      "median is 54.000000\n",
      "variance is 23323.192290\n",
      "mean is 98.349730\n",
      "median is 54.000000\n",
      "variance is 26246.526286\n",
      "mean is 94.351896\n",
      "median is 54.000000\n",
      "variance is 24206.535411\n",
      "mean is 97.285320\n",
      "median is 54.000000\n",
      "variance is 25740.459114\n",
      "mean is 92.722637\n",
      "median is 54.000000\n",
      "variance is 23407.196060\n",
      "mean is 97.201055\n",
      "median is 54.000000\n",
      "variance is 25769.291710\n",
      "mean is 102.463758\n",
      "median is 54.000000\n",
      "variance is 28271.615863\n",
      "mean is 94.806454\n",
      "median is 54.000000\n",
      "variance is 24509.324934\n",
      "mean is 106.162222\n",
      "median is 54.000000\n",
      "variance is 30246.537585\n",
      "mean is 93.764880\n",
      "median is 54.000000\n",
      "variance is 24110.990970\n",
      "mean is 93.068743\n",
      "median is 54.000000\n",
      "variance is 23768.391096\n",
      "mean is 100.611162\n",
      "median is 54.000000\n",
      "variance is 27466.700697\n",
      "mean is 105.566796\n",
      "median is 54.000000\n",
      "variance is 29826.405979\n",
      "mean is 106.877864\n",
      "median is 54.000000\n",
      "variance is 30496.704759\n"
     ]
    }
   ],
   "source": [
    "#Testing Analysis For Every Parameter Set\n",
    "\n",
    "mean_results=[]\n",
    "median_results=[]\n",
    "variance_results=[]\n",
    "\n",
    "for i in range(int(number_of_frames/int(2*background_length))):\n",
    "\n",
    "    picked_frame=int(((background_length*i)+background_chunk+(background_length/2))) #Picked frames greater than the background chunk should show image of object,every 100 frames use different parameters\n",
    "    frame_of_interest=frames[picked_frame]\n",
    "    #know your background \n",
    "    background_low_bounds=int(((picked_frame-(picked_frame%background_length))-background_chunk))\n",
    "    background_high_bounds=int(((picked_frame-(picked_frame%background_length))-background_chunk)+(background_length-1))\n",
    "    backgroundmean=np.median(frames[background_low_bounds:background_high_bounds], axis=0) #probably safer to do median since the noise is known to mean gaussian\n",
    "    backgroundvariance=np.var(frames[background_low_bounds:background_high_bounds], axis=0)\n",
    "\n",
    "    #if the difference between the background and the frame is greater than expected, it's probably our object! \n",
    "    #note that I arbitrarily pick 5 stdeviations away, it's worth knowing if the noise is actually gaussian\n",
    "    backgroundmultiplier=np.abs(frame_of_interest - backgroundmean) - (10*np.sqrt(backgroundvariance)) #if its 5 standard its NOISE\n",
    "    #we expect positive values for high differences. make them stay by multiplying by 1\n",
    "    backgroundmultiplier[backgroundmultiplier>0]=1\n",
    "    #we expect negative values or no change for small differences. probably just noise, get rid of them by multiplying by 0\n",
    "    backgroundmultiplier[backgroundmultiplier<=0]=0\n",
    "    #apply our expectations to the matrix\n",
    "\n",
    "    frame_of_interest_backgroundsubtracted=np.multiply(np.subtract(frame_of_interest,backgroundmean),-1) #subtract the background mean and then multiply result by negative 1 since the camera counts distance away \n",
    "    frame_of_interest_backgroundsubtracted=np.multiply(frame_of_interest_backgroundsubtracted,backgroundmultiplier) #pixels that arent significantly different are considered background \n",
    "    frame_of_interest_backgroundsubtracted[frame_of_interest_backgroundsubtracted<0]=0 #everything less than 0 IS zero\n",
    "    #frame_of_interest_backgroundsubtracted=np.multiply(frame_of_interest_backgroundsubtracted,1) #go from mm to something else by mlitplying by something other than 1\n",
    "    frame_of_interest_backgroundsubtracted=np.rint(frame_of_interest_backgroundsubtracted) #makes everything an integer\n",
    "\n",
    "    #basic stats\n",
    "    object_median=np.median(frame_of_interest_backgroundsubtracted[frame_of_interest_backgroundsubtracted>0])\n",
    "    object_mean=np.mean(frame_of_interest_backgroundsubtracted[frame_of_interest_backgroundsubtracted != 0])\n",
    "    object_variance=np.var(frame_of_interest_backgroundsubtracted[frame_of_interest_backgroundsubtracted != 0])\n",
    "    #objectsigma=np.sqrt(objectvariance)\n",
    "    \n",
    "    mean_results.append(object_mean)\n",
    "    median_results.append(object_median)\n",
    "    variance_results.append(object_variance)\n",
    "\n",
    "    #Plotting background-subtracted image\n",
    "    #fig=plt.figure(figsize=(10,10))\n",
    "    #plt.imshow(frame_of_interest_backgroundsubtracted)\n",
    "    #plt.clim(object_median-100,object_median+100)\n",
    "    #fig.savefig(object_id + '_%d.png'%i)\n",
    "\n",
    "    #same image with jet color bar\n",
    "    fig2=plt.figure(figsize=(8,8))\n",
    "    plt.colorbar(plt.imshow(frame_of_interest_backgroundsubtracted,cmap='jet'))\n",
    "    plt.clim(0,object_median+100) #starting at 0 instead of -100\n",
    "    fig2.savefig(object_id + '_jet_%d.png'%i)\n",
    "\n",
    "    #show the stats\n",
    "    print('mean is %f' %object_mean)\n",
    "    print('median is %f' %object_median)\n",
    "    print('variance is %f' %object_variance)\n",
    "    \n",
    "    #plt.close(fig)\n",
    "    plt.close(fig2)\n",
    "    \n"
   ]
  },
  {
   "cell_type": "code",
   "execution_count": 19,
   "metadata": {},
   "outputs": [
    {
     "name": "stdout",
     "output_type": "stream",
     "text": [
      "86.4480660861\n",
      "54.0\n",
      "20468.3306789\n"
     ]
    },
    {
     "data": {
      "image/png": "[encoded data removed]",
      "text/plain": [
       "<Figure size 432x288 with 1 Axes>"
      ]
     },
     "metadata": {},
     "output_type": "display_data"
    },
    {
     "name": "stdout",
     "output_type": "stream",
     "text": [
      "minusDecrement: 0, deepSeaMedianThreshold: 504, scoreThreshA: 0, scoreThreshB: 2458, textureDifferenceThreshold: 2, textureCountThreshold: 5, deepSeaSecondPeakThreshold: 316, deepSeaNeighborThreshold: 12, lrAgreeThreshold: 50\n"
     ]
    }
   ],
   "source": [
    "#plot histogram of the pixels with least variance\n",
    "minvarindex=variance_results.index(min(variance_results)) #index of min variance image\n",
    "\n",
    "picked_frame=int(((background_length*minvarindex)+background_chunk+(background_length/2))) #Picked frames greater than the background chunk should show image of object,every 100 frames use different parameters\n",
    "frame_of_interest=frames[picked_frame]\n",
    "#know your background \n",
    "background_low_bounds=int(((picked_frame-(picked_frame%background_length))-background_chunk))\n",
    "background_high_bounds=int(((picked_frame-(picked_frame%background_length))-background_chunk)+(background_length-1))\n",
    "backgroundmean=np.median(frames[background_low_bounds:background_high_bounds], axis=0) #probably safer to do median since the noise is known to mean gaussian\n",
    "backgroundvariance=np.var(frames[background_low_bounds:background_high_bounds], axis=0)\n",
    "\n",
    "#if the difference between the background and the frame is greater than expected, it's probably our object! \n",
    "#note that I arbitrarily pick 5 stdeviations away, it's worth knowing if the noise is actually gaussian\n",
    "backgroundmultiplier=np.abs(frame_of_interest - backgroundmean) - (10*np.sqrt(backgroundvariance)) #if its 5 standard its NOISE\n",
    "#we expect positive values for high differences. make them stay by multiplying by 1\n",
    "backgroundmultiplier[backgroundmultiplier>0]=1\n",
    "#we expect negative values or no change for small differences. probably just noise, get rid of them by multiplying by 0\n",
    "backgroundmultiplier[backgroundmultiplier<=0]=0\n",
    "#apply our expectations to the matrix\n",
    "\n",
    "frame_of_interest_backgroundsubtracted=np.multiply(np.subtract(frame_of_interest,backgroundmean),-1) #subtract the background mean and then multiply result by negative 1 since the camera counts distance away \n",
    "frame_of_interest_backgroundsubtracted=np.multiply(frame_of_interest_backgroundsubtracted,backgroundmultiplier) #pixels that arent significantly different are considered background \n",
    "frame_of_interest_backgroundsubtracted[frame_of_interest_backgroundsubtracted<0]=0 #everything less than 0 IS zero\n",
    "#frame_of_interest_backgroundsubtracted=np.multiply(frame_of_interest_backgroundsubtracted,1) #go from mm to something else by mlitplying by something other than 1\n",
    "frame_of_interest_backgroundsubtracted=np.rint(frame_of_interest_backgroundsubtracted) #makes everything an integer\n",
    "\n",
    "#basic stats\n",
    "object_median=np.median(frame_of_interest_backgroundsubtracted[frame_of_interest_backgroundsubtracted>0])\n",
    "object_mean=np.mean(frame_of_interest_backgroundsubtracted[frame_of_interest_backgroundsubtracted != 0])\n",
    "object_variance=np.var(frame_of_interest_backgroundsubtracted[frame_of_interest_backgroundsubtracted != 0])\n",
    "print(object_mean)\n",
    "print(object_median)\n",
    "print(object_variance)\n",
    "plt.hist(frame_of_interest_backgroundsubtracted[frame_of_interest_backgroundsubtracted != 0],bins=range(1,100))\n",
    "plt.show()\n",
    "print(saveddepthparams[int((background_low_bounds/background_length))]) #print the depth parameters that led to this histogram"
   ]
  },
  {
   "cell_type": "code",
   "execution_count": 20,
   "metadata": {},
   "outputs": [
    {
     "data": {
      "image/png": "[encoded data removed]",
      "text/plain": [
       "<Figure size 576x576 with 2 Axes>"
      ]
     },
     "metadata": {},
     "output_type": "display_data"
    }
   ],
   "source": [
    "plt.figure(figsize=(8,8))\n",
    "plt.colorbar(plt.imshow(frame_of_interest_backgroundsubtracted,cmap='jet'))\n",
    "plt.clim(0,object_median+100) #starting at 0 instead of -100"
   ]
  },
  {
   "cell_type": "code",
   "execution_count": 21,
   "metadata": {},
   "outputs": [
    {
     "name": "stdout",
     "output_type": "stream",
     "text": [
      "[26101.020536138458, 27485.410464674733, 23839.005305453979, 26923.30240157451, 24637.49911295022, 23471.549814076239, 24373.653884018899, 26160.526856001386, 24819.962633086168, 27053.64569809203, 23373.51192270355, 23547.466257809901, 22889.148613527035, 22094.120143996963, 24747.92710654777, 29117.073535654949, 39223.676665646759, 20638.533657195072, 25564.238317245847, 22264.911070862094, 25007.754347687904, 26006.901775846873, 26010.920257264581, 23909.040182810095, 30267.271627404007, 23114.695659038123, 23420.892493923151, 23444.918749996315, 25382.58045688858, 24122.152982651973, 22888.392173671135, 23389.657557447172, 25093.541378143822, 33209.323925377292, 23511.816950214547, 27701.463683530903, 31039.705958257669, 22480.912390519268, 31595.27322838558, 21865.091698144683, 24893.33235969178, 31726.395100474056, 25425.639441411462, 22194.207621521826, 31763.230781441725, 24824.339439640153, 22841.557092743613, 23777.182550051431, 23698.332423183972, 24645.023532675059, 37947.603789804751, 25370.369553805274, 24703.654244993209, 26458.223949135547, 25206.821329783124, 27833.715759630519, 27169.159075891966, 24956.220130108151, 24956.110463229059, 24747.339002719807, 25344.096476283979, 23249.086569297138, 26449.571259424913, 24188.82077269167, 25959.320481530558, 23234.777416671419, 22778.506679332397, 20468.33067889317, 28000.415684910546, 24579.805942843581, 22210.910627493922, 23445.150103874174, 24181.95260107072, 36767.985865714269, 27534.86388826136, 32101.493712498035, 40496.446504718362, 22394.078766050563, 23320.45673060264, 22579.265069122506, 41837.85596698273, 28559.776753902552, 24596.318808889999, 27795.111775547997, 27518.116029819757, 26150.673676388098, 27688.948641800514, 22952.323164751357, 23893.969216261514, 25838.952086444981, 24890.762717601039, 23153.814662257169, 35741.295817676473, 24039.062960146573, 23898.531099455893, 22172.865243484874, 22147.059626632268, 24005.243520788754, 22976.751518564357, 33216.364477950716, 21274.950098212204, 24849.187175247211, 24880.483287066025, 25048.1298756305, 25828.078360420506, 26043.732180050603, 23323.192290430095, 26246.526285659565, 24206.535410845539, 25740.459114057754, 23407.196059929076, 25769.291709718382, 28271.615862963608, 24509.324933972264, 30246.537584732338, 24110.990969639093, 23768.391095621584, 27466.700697302669, 29826.405979230905, 30496.704759191889]\n"
     ]
    }
   ],
   "source": [
    "print(variance_results)"
   ]
  },
  {
   "cell_type": "code",
   "execution_count": 22,
   "metadata": {},
   "outputs": [
    {
     "name": "stdout",
     "output_type": "stream",
     "text": [
      "[[500, 7, 325, 2, 10, 1, 2047, 0, 0], [465, 20, 347, 23, 9, 4, 1936, 1, 2], [545, 6, 303, 36, 3, 2, 2101, 4, 4], [515, 19, 334, 28, 12, 4, 1859, 1, 4], [528, 8, 338, 42, 0, 1, 2295, 3, 2], [460, 14, 315, 46, 12, 0, 1693, 5, 1], [468, 19, 313, 24, 5, 0, 2359, 1, 3], [522, 14, 302, 23, 0, 2, 1742, 3, 0], [456, 10, 324, 36, 1, 5, 2466, 2, 2], [452, 19, 341, 27, 5, 0, 2107, 2, 4], [462, 3, 323, 41, 7, 1, 1535, 3, 3], [541, 15, 328, 34, 8, 3, 1662, 5, 4], [505, 3, 306, 47, 14, 0, 2080, 3, 1], [466, 18, 308, 49, 13, 1, 2165, 3, 5], [500, 19, 337, 32, 14, 3, 2085, 1, 4], [462, 5, 323, 17, 10, 3, 1791, 1, 0], [482, 12, 328, 10, 7, 0, 2437, 2, 3], [482, 19, 317, 43, 3, 4, 1805, 4, 0], [474, 17, 347, 36, 17, 5, 1681, 0, 3], [486, 8, 307, 35, 8, 5, 2447, 1, 1], [525, 12, 345, 35, 12, 2, 2084, 5, 4], [508, 12, 309, 20, 11, 3, 2245, 5, 2], [473, 6, 333, 22, 11, 4, 2144, 2, 5], [484, 11, 334, 35, 2, 4, 2297, 0, 1], [467, 14, 327, 16, 9, 4, 2450, 1, 4], [458, 3, 306, 37, 2, 0, 2371, 1, 2], [511, 17, 315, 39, 4, 4, 2025, 3, 2], [475, 3, 301, 29, 10, 0, 1743, 2, 0], [520, 10, 348, 38, 13, 2, 1785, 3, 3], [459, 19, 341, 24, 11, 1, 1750, 2, 1], [526, 19, 333, 48, 8, 4, 2003, 2, 2], [453, 13, 316, 34, 13, 5, 1711, 4, 3], [487, 2, 325, 25, 3, 3, 2229, 1, 1], [478, 12, 315, 13, 19, 3, 1508, 4, 2], [490, 11, 326, 27, 12, 3, 1817, 0, 0], [532, 17, 339, 20, 9, 1, 2131, 4, 3], [515, 3, 338, 15, 2, 0, 1812, 5, 4], [490, 11, 303, 37, 19, 3, 1685, 2, 0], [530, 11, 328, 14, 12, 0, 2134, 1, 4], [522, 20, 310, 46, 3, 5, 2168, 3, 2], [492, 19, 326, 35, 13, 3, 2103, 1, 1], [538, 15, 341, 15, 16, 3, 2264, 4, 3], [480, 4, 328, 23, 0, 2, 1905, 4, 5], [515, 11, 332, 46, 16, 3, 2415, 1, 5], [521, 2, 350, 15, 8, 2, 2014, 3, 4], [458, 20, 334, 33, 14, 3, 1579, 3, 3], [543, 12, 343, 47, 20, 1, 2436, 0, 4], [521, 5, 339, 47, 18, 2, 1525, 5, 2], [480, 11, 303, 35, 13, 4, 2206, 0, 0], [462, 0, 322, 23, 10, 5, 2226, 3, 1], [457, 0, 312, 11, 4, 3, 2163, 2, 3], [458, 16, 326, 28, 10, 4, 1567, 2, 0], [502, 11, 323, 37, 10, 4, 2047, 3, 3], [499, 15, 340, 24, 20, 2, 2011, 3, 3], [540, 19, 349, 31, 2, 4, 1773, 0, 3], [479, 8, 335, 19, 17, 1, 1693, 4, 1], [473, 13, 339, 22, 14, 4, 1697, 1, 5], [487, 1, 306, 33, 17, 5, 1777, 5, 4], [489, 8, 338, 39, 2, 2, 2062, 2, 4], [487, 2, 324, 24, 9, 2, 1578, 2, 1], [548, 14, 302, 20, 17, 0, 1645, 0, 3], [494, 2, 305, 38, 14, 0, 2333, 3, 4], [484, 3, 307, 22, 0, 2, 2245, 4, 4], [550, 15, 342, 41, 4, 4, 1926, 1, 4], [464, 9, 346, 37, 20, 0, 1582, 1, 3], [480, 5, 345, 35, 7, 4, 1948, 4, 4], [533, 20, 306, 32, 0, 1, 1747, 0, 1], [504, 12, 316, 50, 0, 0, 2458, 5, 2], [494, 5, 326, 20, 16, 1, 2195, 0, 3], [459, 10, 335, 33, 10, 0, 2497, 3, 3], [540, 14, 332, 36, 6, 5, 1894, 4, 1], [475, 7, 348, 42, 17, 0, 2384, 3, 4], [530, 3, 350, 42, 2, 2, 1611, 5, 3], [508, 9, 344, 11, 11, 5, 2326, 5, 4], [502, 17, 339, 19, 14, 4, 2398, 0, 1], [532, 0, 320, 14, 18, 4, 1935, 5, 3], [522, 14, 349, 10, 8, 5, 1944, 0, 5], [478, 9, 310, 48, 12, 3, 1860, 2, 3], [472, 15, 327, 34, 2, 3, 2053, 4, 3], [501, 1, 311, 37, 7, 1, 1876, 4, 1], [515, 17, 332, 10, 7, 4, 1894, 5, 2], [508, 9, 342, 21, 0, 5, 2440, 0, 3], [491, 14, 314, 25, 3, 4, 1636, 5, 1], [482, 9, 341, 21, 17, 5, 1795, 2, 0], [452, 2, 302, 20, 15, 0, 1748, 4, 5], [517, 7, 306, 20, 11, 5, 1938, 1, 2], [459, 17, 323, 19, 1, 1, 1791, 4, 5], [469, 20, 343, 43, 18, 1, 1911, 4, 2], [517, 10, 310, 24, 5, 3, 2341, 2, 2], [453, 14, 313, 20, 7, 1, 1609, 4, 0], [487, 16, 342, 29, 16, 5, 1902, 1, 0], [547, 8, 324, 37, 12, 4, 1600, 1, 3], [507, 9, 340, 12, 2, 3, 2364, 0, 1], [515, 4, 330, 31, 17, 4, 2491, 3, 0], [550, 5, 339, 43, 5, 1, 2036, 3, 3], [481, 17, 317, 36, 7, 3, 1705, 1, 2], [456, 17, 316, 36, 12, 1, 2324, 5, 1], [453, 1, 322, 34, 0, 0, 1753, 4, 3], [490, 14, 313, 30, 15, 5, 1839, 0, 4], [541, 15, 333, 14, 17, 4, 1878, 1, 0], [503, 13, 307, 40, 3, 4, 1863, 3, 4], [476, 3, 334, 41, 0, 5, 1531, 1, 1], [532, 10, 329, 35, 2, 5, 1661, 5, 2], [544, 15, 337, 45, 5, 4, 2017, 1, 2], [528, 10, 345, 29, 9, 2, 1631, 5, 1], [524, 5, 315, 17, 12, 1, 1997, 5, 5], [531, 19, 336, 32, 0, 1, 2356, 0, 1], [509, 17, 309, 19, 4, 1, 1800, 2, 4], [469, 3, 313, 28, 18, 3, 2121, 4, 4], [510, 11, 320, 22, 17, 1, 1890, 1, 3], [523, 13, 314, 41, 12, 3, 2271, 0, 3], [542, 1, 320, 19, 12, 2, 2399, 1, 2], [457, 2, 342, 19, 15, 5, 1688, 3, 2], [519, 17, 300, 21, 14, 3, 1851, 2, 0], [469, 15, 347, 15, 8, 1, 1614, 5, 5], [532, 16, 333, 42, 6, 2, 2455, 0, 3], [464, 2, 319, 37, 7, 5, 2017, 3, 5], [496, 17, 332, 19, 0, 5, 2451, 4, 5], [526, 4, 330, 17, 12, 3, 1796, 4, 4], [527, 11, 342, 16, 4, 2, 2089, 5, 3]]\n"
     ]
    }
   ],
   "source": [
    "print(organizeddepthparams)"
   ]
  },
  {
   "cell_type": "code",
   "execution_count": 23,
   "metadata": {},
   "outputs": [],
   "source": [
    "#correlation between parameter a and variance. a is the 3rd depth parameter\n",
    "a=[]\n",
    "for x in range(len(organizeddepthparams)):\n",
    "    a.append(organizeddepthparams[x][0])\n",
    "b=[]\n",
    "for x in range(len(organizeddepthparams)):\n",
    "    b.append(organizeddepthparams[x][1])\n",
    "c=[]\n",
    "for x in range(len(organizeddepthparams)):\n",
    "    c.append(organizeddepthparams[x][2])\n",
    "d=[]\n",
    "for x in range(len(organizeddepthparams)):\n",
    "    d.append(organizeddepthparams[x][3])\n",
    "e=[]\n",
    "for x in range(len(organizeddepthparams)):\n",
    "    e.append(organizeddepthparams[x][4])\n",
    "f=[]\n",
    "for x in range(len(organizeddepthparams)):\n",
    "    f.append(organizeddepthparams[x][5])\n",
    "g=[]\n",
    "for x in range(len(organizeddepthparams)):\n",
    "    g.append(organizeddepthparams[x][6])\n",
    "h=[]\n",
    "for x in range(len(organizeddepthparams)):\n",
    "    h.append(organizeddepthparams[x][7])\n",
    "i=[]\n",
    "for x in range(len(organizeddepthparams)):\n",
    "    i.append(organizeddepthparams[x][8])"
   ]
  },
  {
   "cell_type": "code",
   "execution_count": 24,
   "metadata": {},
   "outputs": [],
   "source": [
    "a=np.divide(np.subtract(a,450),(550-450))\n",
    "b=np.divide(np.subtract(b,0),20)\n",
    "c=np.divide(np.subtract(c,300),(350-300))\n",
    "d=np.divide(np.subtract(d,10),(50-10))\n",
    "e=np.divide(np.subtract(e,0),20)\n",
    "f=np.divide(np.subtract(f,0),5)\n",
    "g=np.divide(np.subtract(g,1500),(2500-1500))\n",
    "h=np.divide(np.subtract(h,0),5)\n",
    "i=np.divide(np.subtract(i,0),5)"
   ]
  },
  {
   "cell_type": "code",
   "execution_count": 25,
   "metadata": {},
   "outputs": [],
   "source": [
    "mask=np.isfinite(variance_results) #find the nans\n",
    "variance_results=np.sqrt(variance_results) #square root variance"
   ]
  },
  {
   "cell_type": "code",
   "execution_count": 26,
   "metadata": {},
   "outputs": [
    {
     "data": {
      "image/png": "[encoded data removed]",
      "text/plain": [
       "<Figure size 432x288 with 1 Axes>"
      ]
     },
     "metadata": {},
     "output_type": "display_data"
    }
   ],
   "source": [
    "plt.scatter(a[mask],variance_results[mask])\n",
    "plt.scatter(b[mask],variance_results[mask])\n",
    "plt.scatter(c[mask],variance_results[mask])\n",
    "plt.scatter(d[mask],variance_results[mask])\n",
    "plt.scatter(e[mask],variance_results[mask])\n",
    "plt.scatter(f[mask],variance_results[mask])\n",
    "plt.scatter(g[mask],variance_results[mask])\n",
    "plt.scatter(h[mask],variance_results[mask])\n",
    "plt.scatter(i[mask],variance_results[mask])\n",
    "\n",
    "plt.plot(a[mask],variance_results[mask])\n",
    "plt.plot(b[mask],variance_results[mask])\n",
    "plt.plot(c[mask],variance_results[mask])\n",
    "plt.plot(d[mask],variance_results[mask])\n",
    "plt.plot(e[mask],variance_results[mask])\n",
    "plt.plot(f[mask],variance_results[mask])\n",
    "plt.plot(g[mask],variance_results[mask])\n",
    "plt.plot(h[mask],variance_results[mask])\n",
    "plt.plot(i[mask],variance_results[mask])\n",
    "\n",
    "plt.show()"
   ]
  },
  {
   "cell_type": "code",
   "execution_count": 49,
   "metadata": {},
   "outputs": [
    {
     "data": {
      "image/png": "[encoded data removed]",
      "text/plain": [
       "<Figure size 360x360 with 1 Axes>"
      ]
     },
     "metadata": {},
     "output_type": "display_data"
    },
    {
     "name": "stdout",
     "output_type": "stream",
     "text": [
      "[   2.25910044  159.621483  ]\n"
     ]
    }
   ],
   "source": [
    "paramplt=plt.figure(figsize=(5,5))\n",
    "plt.scatter(a[mask],variance_results[mask])\n",
    "plt.show()\n",
    "paramplt.savefig(\"param20.png\")\n",
    "print(np.polyfit(a[mask],variance_results[mask],1))"
   ]
  },
  {
   "cell_type": "code",
   "execution_count": 48,
   "metadata": {},
   "outputs": [
    {
     "data": {
      "image/png": "[encoded data removed]",
      "text/plain": [
       "<Figure size 360x360 with 1 Axes>"
      ]
     },
     "metadata": {},
     "output_type": "display_data"
    },
    {
     "name": "stdout",
     "output_type": "stream",
     "text": [
      "[  -2.95599598  162.27772385]\n"
     ]
    }
   ],
   "source": [
    "paramplt=plt.figure(figsize=(5,5))\n",
    "plt.scatter(b[mask],variance_results[mask])\n",
    "plt.show()\n",
    "paramplt.savefig(\"param21.png\")\n",
    "print(np.polyfit(b[mask],variance_results[mask],1))"
   ]
  },
  {
   "cell_type": "code",
   "execution_count": 47,
   "metadata": {},
   "outputs": [
    {
     "data": {
      "image/png": "[encoded data removed]",
      "text/plain": [
       "<Figure size 360x360 with 1 Axes>"
      ]
     },
     "metadata": {},
     "output_type": "display_data"
    },
    {
     "name": "stdout",
     "output_type": "stream",
     "text": [
      "[  12.34759877  154.20308158]\n"
     ]
    }
   ],
   "source": [
    "paramplt=plt.figure(figsize=(5,5))\n",
    "plt.scatter(c[mask],variance_results[mask])\n",
    "plt.show()\n",
    "paramplt.savefig(\"param22.png\")\n",
    "print(np.polyfit(c[mask],variance_results[mask],1))"
   ]
  },
  {
   "cell_type": "code",
   "execution_count": 41,
   "metadata": {
    "scrolled": true
   },
   "outputs": [
    {
     "data": {
      "image/png": "[encoded data removed]",
      "text/plain": [
       "<Figure size 360x360 with 1 Axes>"
      ]
     },
     "metadata": {},
     "output_type": "display_data"
    },
    {
     "name": "stdout",
     "output_type": "stream",
     "text": [
      "[ -32.93771927  176.42156362]\n"
     ]
    }
   ],
   "source": [
    "paramplt=plt.figure(figsize=(5,5))\n",
    "plt.scatter(d[mask],variance_results[mask])\n",
    "plt.show()\n",
    "paramplt.savefig(\"param23.png\")\n",
    "print(np.polyfit(d[mask],variance_results[mask],1))"
   ]
  },
  {
   "cell_type": "code",
   "execution_count": 42,
   "metadata": {},
   "outputs": [
    {
     "data": {
      "image/png": "[encoded data removed]",
      "text/plain": [
       "<Figure size 360x360 with 1 Axes>"
      ]
     },
     "metadata": {},
     "output_type": "display_data"
    },
    {
     "name": "stdout",
     "output_type": "stream",
     "text": [
      "[   1.70454526  159.90687094]\n"
     ]
    }
   ],
   "source": [
    "paramplt=plt.figure(figsize=(5,5))\n",
    "plt.scatter(e[mask],variance_results[mask])\n",
    "plt.show()\n",
    "paramplt.savefig(\"param24.png\")\n",
    "print(np.polyfit(e[mask],variance_results[mask],1))"
   ]
  },
  {
   "cell_type": "code",
   "execution_count": 43,
   "metadata": {},
   "outputs": [
    {
     "data": {
      "image/png": "[encoded data removed]",
      "text/plain": [
       "<Figure size 360x360 with 1 Axes>"
      ]
     },
     "metadata": {},
     "output_type": "display_data"
    },
    {
     "name": "stdout",
     "output_type": "stream",
     "text": [
      "[   2.49136168  159.38583779]\n"
     ]
    }
   ],
   "source": [
    "paramplt=plt.figure(figsize=(5,5))\n",
    "plt.scatter(f[mask],variance_results[mask])\n",
    "plt.show()\n",
    "paramplt.savefig(\"param25.png\")\n",
    "print(np.polyfit(f[mask],variance_results[mask],1))"
   ]
  },
  {
   "cell_type": "code",
   "execution_count": 44,
   "metadata": {},
   "outputs": [
    {
     "data": {
      "image/png": "[encoded data removed]",
      "text/plain": [
       "<Figure size 360x360 with 1 Axes>"
      ]
     },
     "metadata": {},
     "output_type": "display_data"
    },
    {
     "name": "stdout",
     "output_type": "stream",
     "text": [
      "[   1.52712419  159.94581724]\n"
     ]
    }
   ],
   "source": [
    "paramplt=plt.figure(figsize=(5,5))\n",
    "plt.scatter(g[mask],variance_results[mask])\n",
    "plt.show()\n",
    "paramplt.savefig(\"param26.png\")\n",
    "print(np.polyfit(g[mask],variance_results[mask],1))"
   ]
  },
  {
   "cell_type": "code",
   "execution_count": 45,
   "metadata": {},
   "outputs": [
    {
     "data": {
      "image/png": "[encoded data removed]",
      "text/plain": [
       "<Figure size 360x360 with 1 Axes>"
      ]
     },
     "metadata": {},
     "output_type": "display_data"
    },
    {
     "name": "stdout",
     "output_type": "stream",
     "text": [
      "[   1.0141075   160.18674892]\n"
     ]
    }
   ],
   "source": [
    "paramplt=plt.figure(figsize=(5,5))\n",
    "plt.scatter(h[mask],variance_results[mask])\n",
    "plt.show()\n",
    "paramplt.savefig(\"param27.png\")\n",
    "print(np.polyfit(h[mask],variance_results[mask],1))"
   ]
  },
  {
   "cell_type": "code",
   "execution_count": 46,
   "metadata": {
    "scrolled": true
   },
   "outputs": [
    {
     "data": {
      "image/png": "[encoded data removed]",
      "text/plain": [
       "<Figure size 360x360 with 1 Axes>"
      ]
     },
     "metadata": {},
     "output_type": "display_data"
    },
    {
     "name": "stdout",
     "output_type": "stream",
     "text": [
      "[   6.21972807  157.55283999]\n"
     ]
    }
   ],
   "source": [
    "paramplt=plt.figure(figsize=(5,5))\n",
    "plt.scatter(i[mask],variance_results[mask])\n",
    "plt.show()\n",
    "paramplt.savefig(\"param28.png\")\n",
    "print(np.polyfit(i[mask],variance_results[mask],1))"
   ]
  },
  {
   "cell_type": "code",
   "execution_count": 40,
   "metadata": {},
   "outputs": [],
   "source": [
    "import pickle\n",
    "\n",
    "x=open(\"brute_force_results_%s\"%object_id,'wb')\n",
    "pickle.dump([mean_results,median_results,variance_results],x)\n",
    "x.close()"
   ]
  },
  {
   "cell_type": "code",
   "execution_count": 37,
   "metadata": {},
   "outputs": [],
   "source": [
    "#already looks like parameters d, h and i effect the variance!"
   ]
  }
 ],
 "metadata": {
  "kernelspec": {
   "display_name": "Python 3",
   "language": "python",
   "name": "python3"
  },
  "language_info": {
   "codemirror_mode": {
    "name": "ipython",
    "version": 3
   },
   "file_extension": ".py",
   "mimetype": "text/x-python",
   "name": "python",
   "nbconvert_exporter": "python",
   "pygments_lexer": "ipython3",
   "version": "3.6.4"
  }
 },
 "nbformat": 4,
 "nbformat_minor": 2
}
